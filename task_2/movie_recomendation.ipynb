{
 "cells": [
  {
   "attachments": {},
   "cell_type": "markdown",
   "metadata": {},
   "source": [
    "collaborative filtering"
   ]
  },
  {
   "cell_type": "markdown",
   "metadata": {
    "id": "w9hCjS52v8re"
   },
   "source": [
    "### Loading libraries and files"
   ]
  },
  {
   "cell_type": "code",
   "execution_count": 1,
   "metadata": {
    "id": "AEDn0V48mUaY"
   },
   "outputs": [],
   "source": [
    "# import libraries \n",
    "\n",
    "import pandas as pd\n",
    "import numpy as np\n",
    "import matplotlib.pyplot as plt"
   ]
  },
  {
   "cell_type": "code",
   "execution_count": 45,
   "metadata": {
    "id": "qYlbvUCxuGiI"
   },
   "outputs": [],
   "source": [
    "# loading csv file into pandas dataframe\n",
    "ratings = pd.read_csv('/Users/ayushkumarjha/Desktop/bharatintern/movie.csv')"
   ]
  },
  {
   "cell_type": "markdown",
   "metadata": {
    "id": "jrU296jSv2Bb"
   },
   "source": [
    "#### High-level info of data"
   ]
  },
  {
   "cell_type": "code",
   "execution_count": 3,
   "metadata": {
    "colab": {
     "base_uri": "https://localhost:8080/",
     "height": 204
    },
    "id": "jis3xMm7vkWI",
    "outputId": "cadc2b43-9584-41dc-d792-e15b7f7518dd"
   },
   "outputs": [
    {
     "data": {
      "text/html": [
       "<div>\n",
       "<style scoped>\n",
       "    .dataframe tbody tr th:only-of-type {\n",
       "        vertical-align: middle;\n",
       "    }\n",
       "\n",
       "    .dataframe tbody tr th {\n",
       "        vertical-align: top;\n",
       "    }\n",
       "\n",
       "    .dataframe thead th {\n",
       "        text-align: right;\n",
       "    }\n",
       "</style>\n",
       "<table border=\"1\" class=\"dataframe\">\n",
       "  <thead>\n",
       "    <tr style=\"text-align: right;\">\n",
       "      <th></th>\n",
       "      <th>userId</th>\n",
       "      <th>movieId</th>\n",
       "      <th>rating</th>\n",
       "      <th>timestamp</th>\n",
       "    </tr>\n",
       "  </thead>\n",
       "  <tbody>\n",
       "    <tr>\n",
       "      <th>0</th>\n",
       "      <td>1</td>\n",
       "      <td>31</td>\n",
       "      <td>2.5</td>\n",
       "      <td>1260759144</td>\n",
       "    </tr>\n",
       "    <tr>\n",
       "      <th>1</th>\n",
       "      <td>1</td>\n",
       "      <td>1029</td>\n",
       "      <td>3.0</td>\n",
       "      <td>1260759179</td>\n",
       "    </tr>\n",
       "    <tr>\n",
       "      <th>2</th>\n",
       "      <td>1</td>\n",
       "      <td>1061</td>\n",
       "      <td>3.0</td>\n",
       "      <td>1260759182</td>\n",
       "    </tr>\n",
       "    <tr>\n",
       "      <th>3</th>\n",
       "      <td>1</td>\n",
       "      <td>1129</td>\n",
       "      <td>2.0</td>\n",
       "      <td>1260759185</td>\n",
       "    </tr>\n",
       "    <tr>\n",
       "      <th>4</th>\n",
       "      <td>1</td>\n",
       "      <td>1172</td>\n",
       "      <td>4.0</td>\n",
       "      <td>1260759205</td>\n",
       "    </tr>\n",
       "  </tbody>\n",
       "</table>\n",
       "</div>"
      ],
      "text/plain": [
       "   userId  movieId  rating   timestamp\n",
       "0       1       31     2.5  1260759144\n",
       "1       1     1029     3.0  1260759179\n",
       "2       1     1061     3.0  1260759182\n",
       "3       1     1129     2.0  1260759185\n",
       "4       1     1172     4.0  1260759205"
      ]
     },
     "execution_count": 3,
     "metadata": {},
     "output_type": "execute_result"
    }
   ],
   "source": [
    "ratings.head()"
   ]
  },
  {
   "cell_type": "code",
   "execution_count": 4,
   "metadata": {
    "colab": {
     "base_uri": "https://localhost:8080/",
     "height": 204
    },
    "id": "9o4DuoEKvm_Z",
    "outputId": "15ba19f9-1495-46e2-b986-95099f560947"
   },
   "outputs": [
    {
     "data": {
      "text/html": [
       "<div>\n",
       "<style scoped>\n",
       "    .dataframe tbody tr th:only-of-type {\n",
       "        vertical-align: middle;\n",
       "    }\n",
       "\n",
       "    .dataframe tbody tr th {\n",
       "        vertical-align: top;\n",
       "    }\n",
       "\n",
       "    .dataframe thead th {\n",
       "        text-align: right;\n",
       "    }\n",
       "</style>\n",
       "<table border=\"1\" class=\"dataframe\">\n",
       "  <thead>\n",
       "    <tr style=\"text-align: right;\">\n",
       "      <th></th>\n",
       "      <th>userId</th>\n",
       "      <th>movieId</th>\n",
       "      <th>rating</th>\n",
       "      <th>timestamp</th>\n",
       "    </tr>\n",
       "  </thead>\n",
       "  <tbody>\n",
       "    <tr>\n",
       "      <th>99999</th>\n",
       "      <td>671</td>\n",
       "      <td>6268</td>\n",
       "      <td>2.5</td>\n",
       "      <td>1065579370</td>\n",
       "    </tr>\n",
       "    <tr>\n",
       "      <th>100000</th>\n",
       "      <td>671</td>\n",
       "      <td>6269</td>\n",
       "      <td>4.0</td>\n",
       "      <td>1065149201</td>\n",
       "    </tr>\n",
       "    <tr>\n",
       "      <th>100001</th>\n",
       "      <td>671</td>\n",
       "      <td>6365</td>\n",
       "      <td>4.0</td>\n",
       "      <td>1070940363</td>\n",
       "    </tr>\n",
       "    <tr>\n",
       "      <th>100002</th>\n",
       "      <td>671</td>\n",
       "      <td>6385</td>\n",
       "      <td>2.5</td>\n",
       "      <td>1070979663</td>\n",
       "    </tr>\n",
       "    <tr>\n",
       "      <th>100003</th>\n",
       "      <td>671</td>\n",
       "      <td>6565</td>\n",
       "      <td>3.5</td>\n",
       "      <td>1074784724</td>\n",
       "    </tr>\n",
       "  </tbody>\n",
       "</table>\n",
       "</div>"
      ],
      "text/plain": [
       "        userId  movieId  rating   timestamp\n",
       "99999      671     6268     2.5  1065579370\n",
       "100000     671     6269     4.0  1065149201\n",
       "100001     671     6365     4.0  1070940363\n",
       "100002     671     6385     2.5  1070979663\n",
       "100003     671     6565     3.5  1074784724"
      ]
     },
     "execution_count": 4,
     "metadata": {},
     "output_type": "execute_result"
    }
   ],
   "source": [
    "ratings.tail()"
   ]
  },
  {
   "cell_type": "code",
   "execution_count": 5,
   "metadata": {
    "colab": {
     "base_uri": "https://localhost:8080/"
    },
    "id": "NBhCAkmcvoob",
    "outputId": "b179a930-92c0-48cb-de3c-6c44f5df0b3a"
   },
   "outputs": [
    {
     "data": {
      "text/plain": [
       "(100004, 4)"
      ]
     },
     "execution_count": 5,
     "metadata": {},
     "output_type": "execute_result"
    }
   ],
   "source": [
    "ratings.shape"
   ]
  },
  {
   "cell_type": "code",
   "execution_count": 6,
   "metadata": {
    "colab": {
     "base_uri": "https://localhost:8080/"
    },
    "id": "F68jmAXEvt1A",
    "outputId": "3029cbba-73f5-4684-d038-0743d1881e5f"
   },
   "outputs": [
    {
     "name": "stdout",
     "output_type": "stream",
     "text": [
      "<class 'pandas.core.frame.DataFrame'>\n",
      "RangeIndex: 100004 entries, 0 to 100003\n",
      "Data columns (total 4 columns):\n",
      " #   Column     Non-Null Count   Dtype  \n",
      "---  ------     --------------   -----  \n",
      " 0   userId     100004 non-null  int64  \n",
      " 1   movieId    100004 non-null  int64  \n",
      " 2   rating     100004 non-null  float64\n",
      " 3   timestamp  100004 non-null  int64  \n",
      "dtypes: float64(1), int64(3)\n",
      "memory usage: 3.1 MB\n"
     ]
    }
   ],
   "source": [
    "ratings.info()"
   ]
  },
  {
   "cell_type": "markdown",
   "metadata": {
    "id": "hrbd4w_7wNn5"
   },
   "source": [
    "There are no null values."
   ]
  },
  {
   "cell_type": "markdown",
   "metadata": {
    "id": "35lMMyngwUCq"
   },
   "source": [
    "### Train-test split"
   ]
  },
  {
   "cell_type": "code",
   "execution_count": 7,
   "metadata": {
    "colab": {
     "base_uri": "https://localhost:8080/"
    },
    "id": "L_JlJ25evyHX",
    "outputId": "7eddcf95-e169-47b3-ce37-a26bd6311513"
   },
   "outputs": [
    {
     "name": "stdout",
     "output_type": "stream",
     "text": [
      "(70002, 4)\n",
      "(30002, 4)\n"
     ]
    }
   ],
   "source": [
    "from sklearn.model_selection import train_test_split\n",
    "\n",
    "X_train, X_test = train_test_split(ratings, test_size = 0.30, random_state = 42)\n",
    "\n",
    "print(X_train.shape)\n",
    "print(X_test.shape)"
   ]
  },
  {
   "cell_type": "code",
   "execution_count": 8,
   "metadata": {
    "colab": {
     "base_uri": "https://localhost:8080/",
     "height": 284
    },
    "id": "7lXQ3-pLwfO_",
    "outputId": "b840c4f8-afea-455c-f5f9-575b09032ba7"
   },
   "outputs": [
    {
     "data": {
      "text/html": [
       "<div>\n",
       "<style scoped>\n",
       "    .dataframe tbody tr th:only-of-type {\n",
       "        vertical-align: middle;\n",
       "    }\n",
       "\n",
       "    .dataframe tbody tr th {\n",
       "        vertical-align: top;\n",
       "    }\n",
       "\n",
       "    .dataframe thead th {\n",
       "        text-align: right;\n",
       "    }\n",
       "</style>\n",
       "<table border=\"1\" class=\"dataframe\">\n",
       "  <thead>\n",
       "    <tr style=\"text-align: right;\">\n",
       "      <th>movieId</th>\n",
       "      <th>1</th>\n",
       "      <th>2</th>\n",
       "      <th>3</th>\n",
       "      <th>4</th>\n",
       "      <th>5</th>\n",
       "      <th>6</th>\n",
       "      <th>7</th>\n",
       "      <th>8</th>\n",
       "      <th>9</th>\n",
       "      <th>10</th>\n",
       "      <th>...</th>\n",
       "      <th>160656</th>\n",
       "      <th>160718</th>\n",
       "      <th>161084</th>\n",
       "      <th>161155</th>\n",
       "      <th>161594</th>\n",
       "      <th>161830</th>\n",
       "      <th>161918</th>\n",
       "      <th>161944</th>\n",
       "      <th>162542</th>\n",
       "      <th>163949</th>\n",
       "    </tr>\n",
       "    <tr>\n",
       "      <th>userId</th>\n",
       "      <th></th>\n",
       "      <th></th>\n",
       "      <th></th>\n",
       "      <th></th>\n",
       "      <th></th>\n",
       "      <th></th>\n",
       "      <th></th>\n",
       "      <th></th>\n",
       "      <th></th>\n",
       "      <th></th>\n",
       "      <th></th>\n",
       "      <th></th>\n",
       "      <th></th>\n",
       "      <th></th>\n",
       "      <th></th>\n",
       "      <th></th>\n",
       "      <th></th>\n",
       "      <th></th>\n",
       "      <th></th>\n",
       "      <th></th>\n",
       "      <th></th>\n",
       "    </tr>\n",
       "  </thead>\n",
       "  <tbody>\n",
       "    <tr>\n",
       "      <th>1</th>\n",
       "      <td>0.0</td>\n",
       "      <td>0.0</td>\n",
       "      <td>0.0</td>\n",
       "      <td>0.0</td>\n",
       "      <td>0.0</td>\n",
       "      <td>0.0</td>\n",
       "      <td>0.0</td>\n",
       "      <td>0.0</td>\n",
       "      <td>0.0</td>\n",
       "      <td>0.0</td>\n",
       "      <td>...</td>\n",
       "      <td>0.0</td>\n",
       "      <td>0.0</td>\n",
       "      <td>0.0</td>\n",
       "      <td>0.0</td>\n",
       "      <td>0.0</td>\n",
       "      <td>0.0</td>\n",
       "      <td>0.0</td>\n",
       "      <td>0.0</td>\n",
       "      <td>0.0</td>\n",
       "      <td>0.0</td>\n",
       "    </tr>\n",
       "    <tr>\n",
       "      <th>2</th>\n",
       "      <td>0.0</td>\n",
       "      <td>0.0</td>\n",
       "      <td>0.0</td>\n",
       "      <td>0.0</td>\n",
       "      <td>0.0</td>\n",
       "      <td>0.0</td>\n",
       "      <td>0.0</td>\n",
       "      <td>0.0</td>\n",
       "      <td>0.0</td>\n",
       "      <td>4.0</td>\n",
       "      <td>...</td>\n",
       "      <td>0.0</td>\n",
       "      <td>0.0</td>\n",
       "      <td>0.0</td>\n",
       "      <td>0.0</td>\n",
       "      <td>0.0</td>\n",
       "      <td>0.0</td>\n",
       "      <td>0.0</td>\n",
       "      <td>0.0</td>\n",
       "      <td>0.0</td>\n",
       "      <td>0.0</td>\n",
       "    </tr>\n",
       "    <tr>\n",
       "      <th>3</th>\n",
       "      <td>0.0</td>\n",
       "      <td>0.0</td>\n",
       "      <td>0.0</td>\n",
       "      <td>0.0</td>\n",
       "      <td>0.0</td>\n",
       "      <td>0.0</td>\n",
       "      <td>0.0</td>\n",
       "      <td>0.0</td>\n",
       "      <td>0.0</td>\n",
       "      <td>0.0</td>\n",
       "      <td>...</td>\n",
       "      <td>0.0</td>\n",
       "      <td>0.0</td>\n",
       "      <td>0.0</td>\n",
       "      <td>0.0</td>\n",
       "      <td>0.0</td>\n",
       "      <td>0.0</td>\n",
       "      <td>0.0</td>\n",
       "      <td>0.0</td>\n",
       "      <td>0.0</td>\n",
       "      <td>0.0</td>\n",
       "    </tr>\n",
       "    <tr>\n",
       "      <th>4</th>\n",
       "      <td>0.0</td>\n",
       "      <td>0.0</td>\n",
       "      <td>0.0</td>\n",
       "      <td>0.0</td>\n",
       "      <td>0.0</td>\n",
       "      <td>0.0</td>\n",
       "      <td>0.0</td>\n",
       "      <td>0.0</td>\n",
       "      <td>0.0</td>\n",
       "      <td>0.0</td>\n",
       "      <td>...</td>\n",
       "      <td>0.0</td>\n",
       "      <td>0.0</td>\n",
       "      <td>0.0</td>\n",
       "      <td>0.0</td>\n",
       "      <td>0.0</td>\n",
       "      <td>0.0</td>\n",
       "      <td>0.0</td>\n",
       "      <td>0.0</td>\n",
       "      <td>0.0</td>\n",
       "      <td>0.0</td>\n",
       "    </tr>\n",
       "    <tr>\n",
       "      <th>5</th>\n",
       "      <td>0.0</td>\n",
       "      <td>0.0</td>\n",
       "      <td>0.0</td>\n",
       "      <td>0.0</td>\n",
       "      <td>0.0</td>\n",
       "      <td>0.0</td>\n",
       "      <td>0.0</td>\n",
       "      <td>0.0</td>\n",
       "      <td>0.0</td>\n",
       "      <td>0.0</td>\n",
       "      <td>...</td>\n",
       "      <td>0.0</td>\n",
       "      <td>0.0</td>\n",
       "      <td>0.0</td>\n",
       "      <td>0.0</td>\n",
       "      <td>0.0</td>\n",
       "      <td>0.0</td>\n",
       "      <td>0.0</td>\n",
       "      <td>0.0</td>\n",
       "      <td>0.0</td>\n",
       "      <td>0.0</td>\n",
       "    </tr>\n",
       "  </tbody>\n",
       "</table>\n",
       "<p>5 rows × 8043 columns</p>\n",
       "</div>"
      ],
      "text/plain": [
       "movieId  1       2       3       4       5       6       7       8       \\\n",
       "userId                                                                    \n",
       "1           0.0     0.0     0.0     0.0     0.0     0.0     0.0     0.0   \n",
       "2           0.0     0.0     0.0     0.0     0.0     0.0     0.0     0.0   \n",
       "3           0.0     0.0     0.0     0.0     0.0     0.0     0.0     0.0   \n",
       "4           0.0     0.0     0.0     0.0     0.0     0.0     0.0     0.0   \n",
       "5           0.0     0.0     0.0     0.0     0.0     0.0     0.0     0.0   \n",
       "\n",
       "movieId  9       10      ...  160656  160718  161084  161155  161594  161830  \\\n",
       "userId                   ...                                                   \n",
       "1           0.0     0.0  ...     0.0     0.0     0.0     0.0     0.0     0.0   \n",
       "2           0.0     4.0  ...     0.0     0.0     0.0     0.0     0.0     0.0   \n",
       "3           0.0     0.0  ...     0.0     0.0     0.0     0.0     0.0     0.0   \n",
       "4           0.0     0.0  ...     0.0     0.0     0.0     0.0     0.0     0.0   \n",
       "5           0.0     0.0  ...     0.0     0.0     0.0     0.0     0.0     0.0   \n",
       "\n",
       "movieId  161918  161944  162542  163949  \n",
       "userId                                   \n",
       "1           0.0     0.0     0.0     0.0  \n",
       "2           0.0     0.0     0.0     0.0  \n",
       "3           0.0     0.0     0.0     0.0  \n",
       "4           0.0     0.0     0.0     0.0  \n",
       "5           0.0     0.0     0.0     0.0  \n",
       "\n",
       "[5 rows x 8043 columns]"
      ]
     },
     "execution_count": 8,
     "metadata": {},
     "output_type": "execute_result"
    }
   ],
   "source": [
    "# pivot ratings into movie features\n",
    "user_data = X_train.pivot(index = 'userId', columns = 'movieId', values = 'rating').fillna(0)\n",
    "user_data.head()"
   ]
  },
  {
   "cell_type": "markdown",
   "metadata": {
    "id": "FyNPjYuD4HKp"
   },
   "source": [
    "### Create a Copy of train and test dataset\n",
    "These datasets will be used for prediction and evaluation.\n",
    "\n",
    "Dummy train will be used later for prediction of the movies which has not been rated by the user. To ignore the movies rated by the user, we will mark it as 0 during prediction. The movies not rated by user is marked as 1 for prediction.\n",
    "\n",
    "Dummy test will be used for evaluation. To evaluate, we will only make prediction on the movies rated by the user. So, this is marked as 1. This is just opposite of dummy_train"
   ]
  },
  {
   "cell_type": "code",
   "execution_count": 9,
   "metadata": {
    "id": "fZlgMgRmx3FW"
   },
   "outputs": [],
   "source": [
    "# make a copy of train and test datasets\n",
    "dummy_train = X_train.copy()\n",
    "dummy_test = X_test.copy()\n",
    "\n",
    "dummy_train['rating'] = dummy_train['rating'].apply(lambda x: 0 if x > 0 else 1)\n",
    "dummy_test['rating'] = dummy_test['rating'].apply(lambda x: 1 if x > 0 else 0)"
   ]
  },
  {
   "cell_type": "code",
   "execution_count": 10,
   "metadata": {
    "id": "AT6-859v5aRU"
   },
   "outputs": [],
   "source": [
    "# The movies not rated by user is marked as 1 for prediction \n",
    "dummy_train = dummy_train.pivot(index = 'userId', columns = 'movieId', values = 'rating').fillna(1)\n",
    "\n",
    "# The movies not rated by user is marked as 0 for evaluation \n",
    "dummy_test = dummy_test.pivot(index ='userId', columns = 'movieId', values = 'rating').fillna(0)"
   ]
  },
  {
   "cell_type": "code",
   "execution_count": 11,
   "metadata": {
    "colab": {
     "base_uri": "https://localhost:8080/",
     "height": 284
    },
    "id": "hoB8ORBQ7kPK",
    "outputId": "a1d541f4-8ca6-4855-e19c-fc256a7a4311"
   },
   "outputs": [
    {
     "data": {
      "text/html": [
       "<div>\n",
       "<style scoped>\n",
       "    .dataframe tbody tr th:only-of-type {\n",
       "        vertical-align: middle;\n",
       "    }\n",
       "\n",
       "    .dataframe tbody tr th {\n",
       "        vertical-align: top;\n",
       "    }\n",
       "\n",
       "    .dataframe thead th {\n",
       "        text-align: right;\n",
       "    }\n",
       "</style>\n",
       "<table border=\"1\" class=\"dataframe\">\n",
       "  <thead>\n",
       "    <tr style=\"text-align: right;\">\n",
       "      <th>movieId</th>\n",
       "      <th>1</th>\n",
       "      <th>2</th>\n",
       "      <th>3</th>\n",
       "      <th>4</th>\n",
       "      <th>5</th>\n",
       "      <th>6</th>\n",
       "      <th>7</th>\n",
       "      <th>8</th>\n",
       "      <th>9</th>\n",
       "      <th>10</th>\n",
       "      <th>...</th>\n",
       "      <th>160656</th>\n",
       "      <th>160718</th>\n",
       "      <th>161084</th>\n",
       "      <th>161155</th>\n",
       "      <th>161594</th>\n",
       "      <th>161830</th>\n",
       "      <th>161918</th>\n",
       "      <th>161944</th>\n",
       "      <th>162542</th>\n",
       "      <th>163949</th>\n",
       "    </tr>\n",
       "    <tr>\n",
       "      <th>userId</th>\n",
       "      <th></th>\n",
       "      <th></th>\n",
       "      <th></th>\n",
       "      <th></th>\n",
       "      <th></th>\n",
       "      <th></th>\n",
       "      <th></th>\n",
       "      <th></th>\n",
       "      <th></th>\n",
       "      <th></th>\n",
       "      <th></th>\n",
       "      <th></th>\n",
       "      <th></th>\n",
       "      <th></th>\n",
       "      <th></th>\n",
       "      <th></th>\n",
       "      <th></th>\n",
       "      <th></th>\n",
       "      <th></th>\n",
       "      <th></th>\n",
       "      <th></th>\n",
       "    </tr>\n",
       "  </thead>\n",
       "  <tbody>\n",
       "    <tr>\n",
       "      <th>1</th>\n",
       "      <td>1.0</td>\n",
       "      <td>1.0</td>\n",
       "      <td>1.0</td>\n",
       "      <td>1.0</td>\n",
       "      <td>1.0</td>\n",
       "      <td>1.0</td>\n",
       "      <td>1.0</td>\n",
       "      <td>1.0</td>\n",
       "      <td>1.0</td>\n",
       "      <td>1.0</td>\n",
       "      <td>...</td>\n",
       "      <td>1.0</td>\n",
       "      <td>1.0</td>\n",
       "      <td>1.0</td>\n",
       "      <td>1.0</td>\n",
       "      <td>1.0</td>\n",
       "      <td>1.0</td>\n",
       "      <td>1.0</td>\n",
       "      <td>1.0</td>\n",
       "      <td>1.0</td>\n",
       "      <td>1.0</td>\n",
       "    </tr>\n",
       "    <tr>\n",
       "      <th>2</th>\n",
       "      <td>1.0</td>\n",
       "      <td>1.0</td>\n",
       "      <td>1.0</td>\n",
       "      <td>1.0</td>\n",
       "      <td>1.0</td>\n",
       "      <td>1.0</td>\n",
       "      <td>1.0</td>\n",
       "      <td>1.0</td>\n",
       "      <td>1.0</td>\n",
       "      <td>0.0</td>\n",
       "      <td>...</td>\n",
       "      <td>1.0</td>\n",
       "      <td>1.0</td>\n",
       "      <td>1.0</td>\n",
       "      <td>1.0</td>\n",
       "      <td>1.0</td>\n",
       "      <td>1.0</td>\n",
       "      <td>1.0</td>\n",
       "      <td>1.0</td>\n",
       "      <td>1.0</td>\n",
       "      <td>1.0</td>\n",
       "    </tr>\n",
       "    <tr>\n",
       "      <th>3</th>\n",
       "      <td>1.0</td>\n",
       "      <td>1.0</td>\n",
       "      <td>1.0</td>\n",
       "      <td>1.0</td>\n",
       "      <td>1.0</td>\n",
       "      <td>1.0</td>\n",
       "      <td>1.0</td>\n",
       "      <td>1.0</td>\n",
       "      <td>1.0</td>\n",
       "      <td>1.0</td>\n",
       "      <td>...</td>\n",
       "      <td>1.0</td>\n",
       "      <td>1.0</td>\n",
       "      <td>1.0</td>\n",
       "      <td>1.0</td>\n",
       "      <td>1.0</td>\n",
       "      <td>1.0</td>\n",
       "      <td>1.0</td>\n",
       "      <td>1.0</td>\n",
       "      <td>1.0</td>\n",
       "      <td>1.0</td>\n",
       "    </tr>\n",
       "    <tr>\n",
       "      <th>4</th>\n",
       "      <td>1.0</td>\n",
       "      <td>1.0</td>\n",
       "      <td>1.0</td>\n",
       "      <td>1.0</td>\n",
       "      <td>1.0</td>\n",
       "      <td>1.0</td>\n",
       "      <td>1.0</td>\n",
       "      <td>1.0</td>\n",
       "      <td>1.0</td>\n",
       "      <td>1.0</td>\n",
       "      <td>...</td>\n",
       "      <td>1.0</td>\n",
       "      <td>1.0</td>\n",
       "      <td>1.0</td>\n",
       "      <td>1.0</td>\n",
       "      <td>1.0</td>\n",
       "      <td>1.0</td>\n",
       "      <td>1.0</td>\n",
       "      <td>1.0</td>\n",
       "      <td>1.0</td>\n",
       "      <td>1.0</td>\n",
       "    </tr>\n",
       "    <tr>\n",
       "      <th>5</th>\n",
       "      <td>1.0</td>\n",
       "      <td>1.0</td>\n",
       "      <td>1.0</td>\n",
       "      <td>1.0</td>\n",
       "      <td>1.0</td>\n",
       "      <td>1.0</td>\n",
       "      <td>1.0</td>\n",
       "      <td>1.0</td>\n",
       "      <td>1.0</td>\n",
       "      <td>1.0</td>\n",
       "      <td>...</td>\n",
       "      <td>1.0</td>\n",
       "      <td>1.0</td>\n",
       "      <td>1.0</td>\n",
       "      <td>1.0</td>\n",
       "      <td>1.0</td>\n",
       "      <td>1.0</td>\n",
       "      <td>1.0</td>\n",
       "      <td>1.0</td>\n",
       "      <td>1.0</td>\n",
       "      <td>1.0</td>\n",
       "    </tr>\n",
       "  </tbody>\n",
       "</table>\n",
       "<p>5 rows × 8043 columns</p>\n",
       "</div>"
      ],
      "text/plain": [
       "movieId  1       2       3       4       5       6       7       8       \\\n",
       "userId                                                                    \n",
       "1           1.0     1.0     1.0     1.0     1.0     1.0     1.0     1.0   \n",
       "2           1.0     1.0     1.0     1.0     1.0     1.0     1.0     1.0   \n",
       "3           1.0     1.0     1.0     1.0     1.0     1.0     1.0     1.0   \n",
       "4           1.0     1.0     1.0     1.0     1.0     1.0     1.0     1.0   \n",
       "5           1.0     1.0     1.0     1.0     1.0     1.0     1.0     1.0   \n",
       "\n",
       "movieId  9       10      ...  160656  160718  161084  161155  161594  161830  \\\n",
       "userId                   ...                                                   \n",
       "1           1.0     1.0  ...     1.0     1.0     1.0     1.0     1.0     1.0   \n",
       "2           1.0     0.0  ...     1.0     1.0     1.0     1.0     1.0     1.0   \n",
       "3           1.0     1.0  ...     1.0     1.0     1.0     1.0     1.0     1.0   \n",
       "4           1.0     1.0  ...     1.0     1.0     1.0     1.0     1.0     1.0   \n",
       "5           1.0     1.0  ...     1.0     1.0     1.0     1.0     1.0     1.0   \n",
       "\n",
       "movieId  161918  161944  162542  163949  \n",
       "userId                                   \n",
       "1           1.0     1.0     1.0     1.0  \n",
       "2           1.0     1.0     1.0     1.0  \n",
       "3           1.0     1.0     1.0     1.0  \n",
       "4           1.0     1.0     1.0     1.0  \n",
       "5           1.0     1.0     1.0     1.0  \n",
       "\n",
       "[5 rows x 8043 columns]"
      ]
     },
     "execution_count": 11,
     "metadata": {},
     "output_type": "execute_result"
    }
   ],
   "source": [
    "dummy_train.head()"
   ]
  },
  {
   "cell_type": "code",
   "execution_count": 12,
   "metadata": {
    "colab": {
     "base_uri": "https://localhost:8080/",
     "height": 284
    },
    "id": "W-GyR0Bk8AnT",
    "outputId": "7008f999-a10e-43fc-f839-e72a69da34fa"
   },
   "outputs": [
    {
     "data": {
      "text/html": [
       "<div>\n",
       "<style scoped>\n",
       "    .dataframe tbody tr th:only-of-type {\n",
       "        vertical-align: middle;\n",
       "    }\n",
       "\n",
       "    .dataframe tbody tr th {\n",
       "        vertical-align: top;\n",
       "    }\n",
       "\n",
       "    .dataframe thead th {\n",
       "        text-align: right;\n",
       "    }\n",
       "</style>\n",
       "<table border=\"1\" class=\"dataframe\">\n",
       "  <thead>\n",
       "    <tr style=\"text-align: right;\">\n",
       "      <th>movieId</th>\n",
       "      <th>1</th>\n",
       "      <th>2</th>\n",
       "      <th>3</th>\n",
       "      <th>4</th>\n",
       "      <th>5</th>\n",
       "      <th>6</th>\n",
       "      <th>7</th>\n",
       "      <th>8</th>\n",
       "      <th>9</th>\n",
       "      <th>10</th>\n",
       "      <th>...</th>\n",
       "      <th>157296</th>\n",
       "      <th>157667</th>\n",
       "      <th>159462</th>\n",
       "      <th>160271</th>\n",
       "      <th>160440</th>\n",
       "      <th>160563</th>\n",
       "      <th>160567</th>\n",
       "      <th>160590</th>\n",
       "      <th>162376</th>\n",
       "      <th>162672</th>\n",
       "    </tr>\n",
       "    <tr>\n",
       "      <th>userId</th>\n",
       "      <th></th>\n",
       "      <th></th>\n",
       "      <th></th>\n",
       "      <th></th>\n",
       "      <th></th>\n",
       "      <th></th>\n",
       "      <th></th>\n",
       "      <th></th>\n",
       "      <th></th>\n",
       "      <th></th>\n",
       "      <th></th>\n",
       "      <th></th>\n",
       "      <th></th>\n",
       "      <th></th>\n",
       "      <th></th>\n",
       "      <th></th>\n",
       "      <th></th>\n",
       "      <th></th>\n",
       "      <th></th>\n",
       "      <th></th>\n",
       "      <th></th>\n",
       "    </tr>\n",
       "  </thead>\n",
       "  <tbody>\n",
       "    <tr>\n",
       "      <th>1</th>\n",
       "      <td>0.0</td>\n",
       "      <td>0.0</td>\n",
       "      <td>0.0</td>\n",
       "      <td>0.0</td>\n",
       "      <td>0.0</td>\n",
       "      <td>0.0</td>\n",
       "      <td>0.0</td>\n",
       "      <td>0.0</td>\n",
       "      <td>0.0</td>\n",
       "      <td>0.0</td>\n",
       "      <td>...</td>\n",
       "      <td>0.0</td>\n",
       "      <td>0.0</td>\n",
       "      <td>0.0</td>\n",
       "      <td>0.0</td>\n",
       "      <td>0.0</td>\n",
       "      <td>0.0</td>\n",
       "      <td>0.0</td>\n",
       "      <td>0.0</td>\n",
       "      <td>0.0</td>\n",
       "      <td>0.0</td>\n",
       "    </tr>\n",
       "    <tr>\n",
       "      <th>2</th>\n",
       "      <td>0.0</td>\n",
       "      <td>0.0</td>\n",
       "      <td>0.0</td>\n",
       "      <td>0.0</td>\n",
       "      <td>0.0</td>\n",
       "      <td>0.0</td>\n",
       "      <td>0.0</td>\n",
       "      <td>0.0</td>\n",
       "      <td>0.0</td>\n",
       "      <td>0.0</td>\n",
       "      <td>...</td>\n",
       "      <td>0.0</td>\n",
       "      <td>0.0</td>\n",
       "      <td>0.0</td>\n",
       "      <td>0.0</td>\n",
       "      <td>0.0</td>\n",
       "      <td>0.0</td>\n",
       "      <td>0.0</td>\n",
       "      <td>0.0</td>\n",
       "      <td>0.0</td>\n",
       "      <td>0.0</td>\n",
       "    </tr>\n",
       "    <tr>\n",
       "      <th>3</th>\n",
       "      <td>0.0</td>\n",
       "      <td>0.0</td>\n",
       "      <td>0.0</td>\n",
       "      <td>0.0</td>\n",
       "      <td>0.0</td>\n",
       "      <td>0.0</td>\n",
       "      <td>0.0</td>\n",
       "      <td>0.0</td>\n",
       "      <td>0.0</td>\n",
       "      <td>0.0</td>\n",
       "      <td>...</td>\n",
       "      <td>0.0</td>\n",
       "      <td>0.0</td>\n",
       "      <td>0.0</td>\n",
       "      <td>0.0</td>\n",
       "      <td>0.0</td>\n",
       "      <td>0.0</td>\n",
       "      <td>0.0</td>\n",
       "      <td>0.0</td>\n",
       "      <td>0.0</td>\n",
       "      <td>0.0</td>\n",
       "    </tr>\n",
       "    <tr>\n",
       "      <th>4</th>\n",
       "      <td>0.0</td>\n",
       "      <td>0.0</td>\n",
       "      <td>0.0</td>\n",
       "      <td>0.0</td>\n",
       "      <td>0.0</td>\n",
       "      <td>0.0</td>\n",
       "      <td>0.0</td>\n",
       "      <td>0.0</td>\n",
       "      <td>0.0</td>\n",
       "      <td>1.0</td>\n",
       "      <td>...</td>\n",
       "      <td>0.0</td>\n",
       "      <td>0.0</td>\n",
       "      <td>0.0</td>\n",
       "      <td>0.0</td>\n",
       "      <td>0.0</td>\n",
       "      <td>0.0</td>\n",
       "      <td>0.0</td>\n",
       "      <td>0.0</td>\n",
       "      <td>0.0</td>\n",
       "      <td>0.0</td>\n",
       "    </tr>\n",
       "    <tr>\n",
       "      <th>5</th>\n",
       "      <td>0.0</td>\n",
       "      <td>0.0</td>\n",
       "      <td>1.0</td>\n",
       "      <td>0.0</td>\n",
       "      <td>0.0</td>\n",
       "      <td>0.0</td>\n",
       "      <td>0.0</td>\n",
       "      <td>0.0</td>\n",
       "      <td>0.0</td>\n",
       "      <td>0.0</td>\n",
       "      <td>...</td>\n",
       "      <td>0.0</td>\n",
       "      <td>0.0</td>\n",
       "      <td>0.0</td>\n",
       "      <td>0.0</td>\n",
       "      <td>0.0</td>\n",
       "      <td>0.0</td>\n",
       "      <td>0.0</td>\n",
       "      <td>0.0</td>\n",
       "      <td>0.0</td>\n",
       "      <td>0.0</td>\n",
       "    </tr>\n",
       "  </tbody>\n",
       "</table>\n",
       "<p>5 rows × 5778 columns</p>\n",
       "</div>"
      ],
      "text/plain": [
       "movieId  1       2       3       4       5       6       7       8       \\\n",
       "userId                                                                    \n",
       "1           0.0     0.0     0.0     0.0     0.0     0.0     0.0     0.0   \n",
       "2           0.0     0.0     0.0     0.0     0.0     0.0     0.0     0.0   \n",
       "3           0.0     0.0     0.0     0.0     0.0     0.0     0.0     0.0   \n",
       "4           0.0     0.0     0.0     0.0     0.0     0.0     0.0     0.0   \n",
       "5           0.0     0.0     1.0     0.0     0.0     0.0     0.0     0.0   \n",
       "\n",
       "movieId  9       10      ...  157296  157667  159462  160271  160440  160563  \\\n",
       "userId                   ...                                                   \n",
       "1           0.0     0.0  ...     0.0     0.0     0.0     0.0     0.0     0.0   \n",
       "2           0.0     0.0  ...     0.0     0.0     0.0     0.0     0.0     0.0   \n",
       "3           0.0     0.0  ...     0.0     0.0     0.0     0.0     0.0     0.0   \n",
       "4           0.0     1.0  ...     0.0     0.0     0.0     0.0     0.0     0.0   \n",
       "5           0.0     0.0  ...     0.0     0.0     0.0     0.0     0.0     0.0   \n",
       "\n",
       "movieId  160567  160590  162376  162672  \n",
       "userId                                   \n",
       "1           0.0     0.0     0.0     0.0  \n",
       "2           0.0     0.0     0.0     0.0  \n",
       "3           0.0     0.0     0.0     0.0  \n",
       "4           0.0     0.0     0.0     0.0  \n",
       "5           0.0     0.0     0.0     0.0  \n",
       "\n",
       "[5 rows x 5778 columns]"
      ]
     },
     "execution_count": 12,
     "metadata": {},
     "output_type": "execute_result"
    }
   ],
   "source": [
    "dummy_test.head()"
   ]
  },
  {
   "cell_type": "markdown",
   "metadata": {
    "id": "Nrvp7Iks8HMp"
   },
   "source": [
    "### User-User Similarity matrix\n",
    "\n",
    "#### Using Cosine similarity"
   ]
  },
  {
   "cell_type": "code",
   "execution_count": 13,
   "metadata": {
    "colab": {
     "base_uri": "https://localhost:8080/"
    },
    "id": "dygP411se45e",
    "outputId": "568876bf-52a2-4a10-811f-24e378fc9e18"
   },
   "outputs": [
    {
     "name": "stdout",
     "output_type": "stream",
     "text": [
      "[[1.         0.         0.         ... 0.         0.         0.02393547]\n",
      " [0.         1.         0.1038815  ... 0.02461364 0.05242847 0.04278715]\n",
      " [0.         0.1038815  1.         ... 0.03033982 0.03282569 0.07569511]\n",
      " ...\n",
      " [0.         0.02461364 0.03033982 ... 1.         0.         0.        ]\n",
      " [0.         0.05242847 0.03282569 ... 0.         1.         0.18450998]\n",
      " [0.02393547 0.04278715 0.07569511 ... 0.         0.18450998 1.        ]]\n",
      "(671, 671)\n"
     ]
    },
    {
     "name": "stderr",
     "output_type": "stream",
     "text": [
      "/opt/homebrew/lib/python3.11/site-packages/sklearn/utils/extmath.py:192: RuntimeWarning: invalid value encountered in matmul\n",
      "  ret = a @ b\n"
     ]
    }
   ],
   "source": [
    "from sklearn.metrics.pairwise import cosine_similarity\n",
    "\n",
    "# User Similarity Matrix using Cosine similarity as a similarity measure between Users\n",
    "user_similarity = cosine_similarity(user_data)\n",
    "user_similarity[np.isnan(user_similarity)] = 0\n",
    "print(user_similarity)\n",
    "print(user_similarity.shape)"
   ]
  },
  {
   "cell_type": "code",
   "execution_count": 14,
   "metadata": {
    "colab": {
     "base_uri": "https://localhost:8080/"
    },
    "id": "PTc0gHtl8CG9",
    "outputId": "bc70724a-05a6-4b3a-debf-7d319082b264"
   },
   "outputs": [
    {
     "data": {
      "text/plain": [
       "\"\\n# using cosine distance \\nfrom sklearn.metrics.pairwise import pairwise_distances\\n\\n# User Similarity Matrix using Cosine similarity as a similarity measure between Users\\nuser_similarity = 1 - pairwise_distances(df_movie_features, metric = 'cosine')\\nuser_similarity[np.isnan(user_similarity)] = 0\\nprint(user_similarity)\\nprint(user_similarity.shape)\\n\""
      ]
     },
     "execution_count": 14,
     "metadata": {},
     "output_type": "execute_result"
    }
   ],
   "source": [
    "'''\n",
    "# using cosine distance \n",
    "from sklearn.metrics.pairwise import pairwise_distances\n",
    "\n",
    "# User Similarity Matrix using Cosine similarity as a similarity measure between Users\n",
    "user_similarity = 1 - pairwise_distances(df_movie_features, metric = 'cosine')\n",
    "user_similarity[np.isnan(user_similarity)] = 0\n",
    "print(user_similarity)\n",
    "print(user_similarity.shape)\n",
    "'''"
   ]
  },
  {
   "cell_type": "markdown",
   "metadata": {
    "id": "I119thl-OX8y"
   },
   "source": [
    "###  Predicting the User ratings on the movies "
   ]
  },
  {
   "cell_type": "code",
   "execution_count": 15,
   "metadata": {
    "colab": {
     "base_uri": "https://localhost:8080/"
    },
    "id": "ykxzNuRcgZGN",
    "outputId": "0978ac9c-22b4-4254-f94c-42e9c75ec689"
   },
   "outputs": [
    {
     "data": {
      "text/plain": [
       "array([[1.30337799e+01, 5.44926060e+00, 2.45313737e+00, ...,\n",
       "        1.20464562e-01, 1.34956662e-01, 1.80611822e-01],\n",
       "       [7.66222363e+01, 5.30689619e+01, 1.29076933e+01, ...,\n",
       "        1.32398358e-01, 1.26234991e-01, 3.43261458e-01],\n",
       "       [5.55388120e+01, 2.36795818e+01, 6.63921027e+00, ...,\n",
       "        3.15486686e-01, 2.13397912e-01, 3.47930392e-01],\n",
       "       ...,\n",
       "       [1.70060137e+01, 8.05160470e+00, 3.14684783e+00, ...,\n",
       "        7.22830712e-02, 0.00000000e+00, 2.47564924e-01],\n",
       "       [6.25718199e+01, 2.58449970e+01, 1.02997955e+01, ...,\n",
       "        1.64231594e-01, 2.45318594e-01, 4.67767180e-01],\n",
       "       [1.05562842e+02, 3.51821767e+01, 1.24033851e+01, ...,\n",
       "        4.99106902e-01, 3.00308694e-01, 5.61785507e-01]])"
      ]
     },
     "execution_count": 15,
     "metadata": {},
     "output_type": "execute_result"
    }
   ],
   "source": [
    "user_predicted_ratings = np.dot(user_similarity, user_data)\n",
    "user_predicted_ratings"
   ]
  },
  {
   "cell_type": "code",
   "execution_count": 16,
   "metadata": {
    "colab": {
     "base_uri": "https://localhost:8080/"
    },
    "id": "BrsjisgkTjT-",
    "outputId": "3fb4036c-c522-4a92-cb84-ed0e8077a522"
   },
   "outputs": [
    {
     "data": {
      "text/plain": [
       "(671, 8043)"
      ]
     },
     "execution_count": 16,
     "metadata": {},
     "output_type": "execute_result"
    }
   ],
   "source": [
    "user_predicted_ratings.shape"
   ]
  },
  {
   "cell_type": "markdown",
   "metadata": {
    "id": "yrJkgsCXUOJk"
   },
   "source": [
    "We do not want to recommend the same movie that the user already watched. We are interested only in the movies not rated by the user, we will ignore the movies rated by the user.\n",
    "\n",
    "This is where we will use our dummy train matrix that we previously built. "
   ]
  },
  {
   "cell_type": "code",
   "execution_count": 17,
   "metadata": {
    "colab": {
     "base_uri": "https://localhost:8080/",
     "height": 284
    },
    "id": "QstO7hlwTpMH",
    "outputId": "a7b904c4-3492-4eee-ccd3-defd97712753"
   },
   "outputs": [
    {
     "data": {
      "text/html": [
       "<div>\n",
       "<style scoped>\n",
       "    .dataframe tbody tr th:only-of-type {\n",
       "        vertical-align: middle;\n",
       "    }\n",
       "\n",
       "    .dataframe tbody tr th {\n",
       "        vertical-align: top;\n",
       "    }\n",
       "\n",
       "    .dataframe thead th {\n",
       "        text-align: right;\n",
       "    }\n",
       "</style>\n",
       "<table border=\"1\" class=\"dataframe\">\n",
       "  <thead>\n",
       "    <tr style=\"text-align: right;\">\n",
       "      <th>movieId</th>\n",
       "      <th>1</th>\n",
       "      <th>2</th>\n",
       "      <th>3</th>\n",
       "      <th>4</th>\n",
       "      <th>5</th>\n",
       "      <th>6</th>\n",
       "      <th>7</th>\n",
       "      <th>8</th>\n",
       "      <th>9</th>\n",
       "      <th>10</th>\n",
       "      <th>...</th>\n",
       "      <th>160656</th>\n",
       "      <th>160718</th>\n",
       "      <th>161084</th>\n",
       "      <th>161155</th>\n",
       "      <th>161594</th>\n",
       "      <th>161830</th>\n",
       "      <th>161918</th>\n",
       "      <th>161944</th>\n",
       "      <th>162542</th>\n",
       "      <th>163949</th>\n",
       "    </tr>\n",
       "    <tr>\n",
       "      <th>userId</th>\n",
       "      <th></th>\n",
       "      <th></th>\n",
       "      <th></th>\n",
       "      <th></th>\n",
       "      <th></th>\n",
       "      <th></th>\n",
       "      <th></th>\n",
       "      <th></th>\n",
       "      <th></th>\n",
       "      <th></th>\n",
       "      <th></th>\n",
       "      <th></th>\n",
       "      <th></th>\n",
       "      <th></th>\n",
       "      <th></th>\n",
       "      <th></th>\n",
       "      <th></th>\n",
       "      <th></th>\n",
       "      <th></th>\n",
       "      <th></th>\n",
       "      <th></th>\n",
       "    </tr>\n",
       "  </thead>\n",
       "  <tbody>\n",
       "    <tr>\n",
       "      <th>1</th>\n",
       "      <td>13.033780</td>\n",
       "      <td>5.449261</td>\n",
       "      <td>2.453137</td>\n",
       "      <td>0.679754</td>\n",
       "      <td>1.964817</td>\n",
       "      <td>4.875659</td>\n",
       "      <td>2.370815</td>\n",
       "      <td>0.102612</td>\n",
       "      <td>0.952908</td>\n",
       "      <td>5.808705</td>\n",
       "      <td>...</td>\n",
       "      <td>0.126428</td>\n",
       "      <td>0.144489</td>\n",
       "      <td>0.090306</td>\n",
       "      <td>0.018473</td>\n",
       "      <td>0.158857</td>\n",
       "      <td>0.044694</td>\n",
       "      <td>0.067042</td>\n",
       "      <td>0.120465</td>\n",
       "      <td>0.134957</td>\n",
       "      <td>0.180612</td>\n",
       "    </tr>\n",
       "    <tr>\n",
       "      <th>2</th>\n",
       "      <td>76.622236</td>\n",
       "      <td>53.068962</td>\n",
       "      <td>12.907693</td>\n",
       "      <td>4.011674</td>\n",
       "      <td>15.803771</td>\n",
       "      <td>34.441235</td>\n",
       "      <td>12.232038</td>\n",
       "      <td>0.830773</td>\n",
       "      <td>5.546404</td>\n",
       "      <td>0.000000</td>\n",
       "      <td>...</td>\n",
       "      <td>0.240283</td>\n",
       "      <td>0.274609</td>\n",
       "      <td>0.171631</td>\n",
       "      <td>0.055903</td>\n",
       "      <td>0.277516</td>\n",
       "      <td>0.111590</td>\n",
       "      <td>0.167385</td>\n",
       "      <td>0.132398</td>\n",
       "      <td>0.126235</td>\n",
       "      <td>0.343261</td>\n",
       "    </tr>\n",
       "    <tr>\n",
       "      <th>3</th>\n",
       "      <td>55.538812</td>\n",
       "      <td>23.679582</td>\n",
       "      <td>6.639210</td>\n",
       "      <td>1.530928</td>\n",
       "      <td>7.409841</td>\n",
       "      <td>19.558837</td>\n",
       "      <td>4.684573</td>\n",
       "      <td>0.304889</td>\n",
       "      <td>2.288593</td>\n",
       "      <td>24.726943</td>\n",
       "      <td>...</td>\n",
       "      <td>0.243551</td>\n",
       "      <td>0.278344</td>\n",
       "      <td>0.173965</td>\n",
       "      <td>0.048133</td>\n",
       "      <td>0.242163</td>\n",
       "      <td>0.061612</td>\n",
       "      <td>0.092418</td>\n",
       "      <td>0.315487</td>\n",
       "      <td>0.213398</td>\n",
       "      <td>0.347930</td>\n",
       "    </tr>\n",
       "    <tr>\n",
       "      <th>4</th>\n",
       "      <td>71.958256</td>\n",
       "      <td>35.470020</td>\n",
       "      <td>11.032536</td>\n",
       "      <td>2.562926</td>\n",
       "      <td>11.585860</td>\n",
       "      <td>26.054558</td>\n",
       "      <td>9.991260</td>\n",
       "      <td>0.824395</td>\n",
       "      <td>3.921522</td>\n",
       "      <td>33.827430</td>\n",
       "      <td>...</td>\n",
       "      <td>0.312294</td>\n",
       "      <td>0.356907</td>\n",
       "      <td>0.223067</td>\n",
       "      <td>0.086111</td>\n",
       "      <td>0.456994</td>\n",
       "      <td>0.175620</td>\n",
       "      <td>0.263430</td>\n",
       "      <td>0.532784</td>\n",
       "      <td>0.232701</td>\n",
       "      <td>0.446134</td>\n",
       "    </tr>\n",
       "    <tr>\n",
       "      <th>5</th>\n",
       "      <td>61.071668</td>\n",
       "      <td>29.297462</td>\n",
       "      <td>8.109153</td>\n",
       "      <td>1.918585</td>\n",
       "      <td>11.516647</td>\n",
       "      <td>19.224022</td>\n",
       "      <td>7.814428</td>\n",
       "      <td>0.583283</td>\n",
       "      <td>1.951332</td>\n",
       "      <td>27.676196</td>\n",
       "      <td>...</td>\n",
       "      <td>0.229508</td>\n",
       "      <td>0.262295</td>\n",
       "      <td>0.163935</td>\n",
       "      <td>0.073583</td>\n",
       "      <td>0.514617</td>\n",
       "      <td>0.119646</td>\n",
       "      <td>0.179469</td>\n",
       "      <td>0.358784</td>\n",
       "      <td>0.349602</td>\n",
       "      <td>0.327869</td>\n",
       "    </tr>\n",
       "  </tbody>\n",
       "</table>\n",
       "<p>5 rows × 8043 columns</p>\n",
       "</div>"
      ],
      "text/plain": [
       "movieId     1          2          3         4          5          6       \\\n",
       "userId                                                                     \n",
       "1        13.033780   5.449261   2.453137  0.679754   1.964817   4.875659   \n",
       "2        76.622236  53.068962  12.907693  4.011674  15.803771  34.441235   \n",
       "3        55.538812  23.679582   6.639210  1.530928   7.409841  19.558837   \n",
       "4        71.958256  35.470020  11.032536  2.562926  11.585860  26.054558   \n",
       "5        61.071668  29.297462   8.109153  1.918585  11.516647  19.224022   \n",
       "\n",
       "movieId     7         8         9          10      ...    160656    160718  \\\n",
       "userId                                             ...                       \n",
       "1         2.370815  0.102612  0.952908   5.808705  ...  0.126428  0.144489   \n",
       "2        12.232038  0.830773  5.546404   0.000000  ...  0.240283  0.274609   \n",
       "3         4.684573  0.304889  2.288593  24.726943  ...  0.243551  0.278344   \n",
       "4         9.991260  0.824395  3.921522  33.827430  ...  0.312294  0.356907   \n",
       "5         7.814428  0.583283  1.951332  27.676196  ...  0.229508  0.262295   \n",
       "\n",
       "movieId    161084    161155    161594    161830    161918    161944    162542  \\\n",
       "userId                                                                          \n",
       "1        0.090306  0.018473  0.158857  0.044694  0.067042  0.120465  0.134957   \n",
       "2        0.171631  0.055903  0.277516  0.111590  0.167385  0.132398  0.126235   \n",
       "3        0.173965  0.048133  0.242163  0.061612  0.092418  0.315487  0.213398   \n",
       "4        0.223067  0.086111  0.456994  0.175620  0.263430  0.532784  0.232701   \n",
       "5        0.163935  0.073583  0.514617  0.119646  0.179469  0.358784  0.349602   \n",
       "\n",
       "movieId    163949  \n",
       "userId             \n",
       "1        0.180612  \n",
       "2        0.343261  \n",
       "3        0.347930  \n",
       "4        0.446134  \n",
       "5        0.327869  \n",
       "\n",
       "[5 rows x 8043 columns]"
      ]
     },
     "execution_count": 17,
     "metadata": {},
     "output_type": "execute_result"
    }
   ],
   "source": [
    "# np.multiply for cell-by-cell multiplication \n",
    "\n",
    "user_final_ratings = np.multiply(user_predicted_ratings, dummy_train)\n",
    "user_final_ratings.head()"
   ]
  },
  {
   "cell_type": "markdown",
   "metadata": {
    "id": "qsKxpTTQVQv5"
   },
   "source": [
    "### Top 5 movie recommendations for the User 42"
   ]
  },
  {
   "cell_type": "code",
   "execution_count": 18,
   "metadata": {
    "colab": {
     "base_uri": "https://localhost:8080/"
    },
    "id": "cDin5NytVLJk",
    "outputId": "04f99290-7fc4-4450-9957-db9623467ac8"
   },
   "outputs": [
    {
     "data": {
      "text/plain": [
       "movieId\n",
       "318     88.928528\n",
       "296     81.196488\n",
       "593     75.446704\n",
       "2571    70.828827\n",
       "260     69.612464\n",
       "Name: 43, dtype: float64"
      ]
     },
     "execution_count": 18,
     "metadata": {},
     "output_type": "execute_result"
    }
   ],
   "source": [
    "user_final_ratings.iloc[42].sort_values(ascending = False)[0:5]"
   ]
  },
  {
   "cell_type": "markdown",
   "metadata": {
    "id": "a9PCNx2-p5Qr"
   },
   "source": [
    "## Item-based collaborative filtering"
   ]
  },
  {
   "cell_type": "code",
   "execution_count": 19,
   "metadata": {
    "colab": {
     "base_uri": "https://localhost:8080/",
     "height": 284
    },
    "id": "66rw9Dm8sKPF",
    "outputId": "ff38a8ce-0fec-4d96-9791-f3717532a87f"
   },
   "outputs": [
    {
     "data": {
      "text/html": [
       "<div>\n",
       "<style scoped>\n",
       "    .dataframe tbody tr th:only-of-type {\n",
       "        vertical-align: middle;\n",
       "    }\n",
       "\n",
       "    .dataframe tbody tr th {\n",
       "        vertical-align: top;\n",
       "    }\n",
       "\n",
       "    .dataframe thead th {\n",
       "        text-align: right;\n",
       "    }\n",
       "</style>\n",
       "<table border=\"1\" class=\"dataframe\">\n",
       "  <thead>\n",
       "    <tr style=\"text-align: right;\">\n",
       "      <th>userId</th>\n",
       "      <th>1</th>\n",
       "      <th>2</th>\n",
       "      <th>3</th>\n",
       "      <th>4</th>\n",
       "      <th>5</th>\n",
       "      <th>6</th>\n",
       "      <th>7</th>\n",
       "      <th>8</th>\n",
       "      <th>9</th>\n",
       "      <th>10</th>\n",
       "      <th>...</th>\n",
       "      <th>662</th>\n",
       "      <th>663</th>\n",
       "      <th>664</th>\n",
       "      <th>665</th>\n",
       "      <th>666</th>\n",
       "      <th>667</th>\n",
       "      <th>668</th>\n",
       "      <th>669</th>\n",
       "      <th>670</th>\n",
       "      <th>671</th>\n",
       "    </tr>\n",
       "    <tr>\n",
       "      <th>movieId</th>\n",
       "      <th></th>\n",
       "      <th></th>\n",
       "      <th></th>\n",
       "      <th></th>\n",
       "      <th></th>\n",
       "      <th></th>\n",
       "      <th></th>\n",
       "      <th></th>\n",
       "      <th></th>\n",
       "      <th></th>\n",
       "      <th></th>\n",
       "      <th></th>\n",
       "      <th></th>\n",
       "      <th></th>\n",
       "      <th></th>\n",
       "      <th></th>\n",
       "      <th></th>\n",
       "      <th></th>\n",
       "      <th></th>\n",
       "      <th></th>\n",
       "      <th></th>\n",
       "    </tr>\n",
       "  </thead>\n",
       "  <tbody>\n",
       "    <tr>\n",
       "      <th>1</th>\n",
       "      <td>0.0</td>\n",
       "      <td>0.0</td>\n",
       "      <td>0.0</td>\n",
       "      <td>0.0</td>\n",
       "      <td>0.0</td>\n",
       "      <td>0.0</td>\n",
       "      <td>3.0</td>\n",
       "      <td>0.0</td>\n",
       "      <td>4.0</td>\n",
       "      <td>0.0</td>\n",
       "      <td>...</td>\n",
       "      <td>0.0</td>\n",
       "      <td>4.0</td>\n",
       "      <td>3.5</td>\n",
       "      <td>0.0</td>\n",
       "      <td>0.0</td>\n",
       "      <td>0.0</td>\n",
       "      <td>0.0</td>\n",
       "      <td>0.0</td>\n",
       "      <td>0.0</td>\n",
       "      <td>5.0</td>\n",
       "    </tr>\n",
       "    <tr>\n",
       "      <th>2</th>\n",
       "      <td>0.0</td>\n",
       "      <td>0.0</td>\n",
       "      <td>0.0</td>\n",
       "      <td>0.0</td>\n",
       "      <td>0.0</td>\n",
       "      <td>0.0</td>\n",
       "      <td>0.0</td>\n",
       "      <td>0.0</td>\n",
       "      <td>0.0</td>\n",
       "      <td>0.0</td>\n",
       "      <td>...</td>\n",
       "      <td>5.0</td>\n",
       "      <td>0.0</td>\n",
       "      <td>0.0</td>\n",
       "      <td>3.0</td>\n",
       "      <td>0.0</td>\n",
       "      <td>0.0</td>\n",
       "      <td>0.0</td>\n",
       "      <td>0.0</td>\n",
       "      <td>0.0</td>\n",
       "      <td>0.0</td>\n",
       "    </tr>\n",
       "    <tr>\n",
       "      <th>3</th>\n",
       "      <td>0.0</td>\n",
       "      <td>0.0</td>\n",
       "      <td>0.0</td>\n",
       "      <td>0.0</td>\n",
       "      <td>0.0</td>\n",
       "      <td>0.0</td>\n",
       "      <td>0.0</td>\n",
       "      <td>0.0</td>\n",
       "      <td>0.0</td>\n",
       "      <td>0.0</td>\n",
       "      <td>...</td>\n",
       "      <td>0.0</td>\n",
       "      <td>0.0</td>\n",
       "      <td>0.0</td>\n",
       "      <td>3.0</td>\n",
       "      <td>0.0</td>\n",
       "      <td>0.0</td>\n",
       "      <td>0.0</td>\n",
       "      <td>0.0</td>\n",
       "      <td>0.0</td>\n",
       "      <td>0.0</td>\n",
       "    </tr>\n",
       "    <tr>\n",
       "      <th>4</th>\n",
       "      <td>0.0</td>\n",
       "      <td>0.0</td>\n",
       "      <td>0.0</td>\n",
       "      <td>0.0</td>\n",
       "      <td>0.0</td>\n",
       "      <td>0.0</td>\n",
       "      <td>0.0</td>\n",
       "      <td>0.0</td>\n",
       "      <td>0.0</td>\n",
       "      <td>0.0</td>\n",
       "      <td>...</td>\n",
       "      <td>0.0</td>\n",
       "      <td>0.0</td>\n",
       "      <td>0.0</td>\n",
       "      <td>0.0</td>\n",
       "      <td>0.0</td>\n",
       "      <td>0.0</td>\n",
       "      <td>0.0</td>\n",
       "      <td>0.0</td>\n",
       "      <td>0.0</td>\n",
       "      <td>0.0</td>\n",
       "    </tr>\n",
       "    <tr>\n",
       "      <th>5</th>\n",
       "      <td>0.0</td>\n",
       "      <td>0.0</td>\n",
       "      <td>0.0</td>\n",
       "      <td>0.0</td>\n",
       "      <td>0.0</td>\n",
       "      <td>0.0</td>\n",
       "      <td>0.0</td>\n",
       "      <td>0.0</td>\n",
       "      <td>0.0</td>\n",
       "      <td>0.0</td>\n",
       "      <td>...</td>\n",
       "      <td>0.0</td>\n",
       "      <td>0.0</td>\n",
       "      <td>0.0</td>\n",
       "      <td>3.0</td>\n",
       "      <td>0.0</td>\n",
       "      <td>0.0</td>\n",
       "      <td>0.0</td>\n",
       "      <td>0.0</td>\n",
       "      <td>0.0</td>\n",
       "      <td>0.0</td>\n",
       "    </tr>\n",
       "  </tbody>\n",
       "</table>\n",
       "<p>5 rows × 671 columns</p>\n",
       "</div>"
      ],
      "text/plain": [
       "userId   1    2    3    4    5    6    7    8    9    10   ...  662  663  664  \\\n",
       "movieId                                                    ...                  \n",
       "1        0.0  0.0  0.0  0.0  0.0  0.0  3.0  0.0  4.0  0.0  ...  0.0  4.0  3.5   \n",
       "2        0.0  0.0  0.0  0.0  0.0  0.0  0.0  0.0  0.0  0.0  ...  5.0  0.0  0.0   \n",
       "3        0.0  0.0  0.0  0.0  0.0  0.0  0.0  0.0  0.0  0.0  ...  0.0  0.0  0.0   \n",
       "4        0.0  0.0  0.0  0.0  0.0  0.0  0.0  0.0  0.0  0.0  ...  0.0  0.0  0.0   \n",
       "5        0.0  0.0  0.0  0.0  0.0  0.0  0.0  0.0  0.0  0.0  ...  0.0  0.0  0.0   \n",
       "\n",
       "userId   665  666  667  668  669  670  671  \n",
       "movieId                                     \n",
       "1        0.0  0.0  0.0  0.0  0.0  0.0  5.0  \n",
       "2        3.0  0.0  0.0  0.0  0.0  0.0  0.0  \n",
       "3        3.0  0.0  0.0  0.0  0.0  0.0  0.0  \n",
       "4        0.0  0.0  0.0  0.0  0.0  0.0  0.0  \n",
       "5        3.0  0.0  0.0  0.0  0.0  0.0  0.0  \n",
       "\n",
       "[5 rows x 671 columns]"
      ]
     },
     "execution_count": 19,
     "metadata": {},
     "output_type": "execute_result"
    }
   ],
   "source": [
    "movie_features = X_train.pivot(index = 'movieId', columns = 'userId', values = 'rating').fillna(0)\n",
    "movie_features.head()"
   ]
  },
  {
   "cell_type": "markdown",
   "metadata": {
    "id": "3BUbpPwetVuV"
   },
   "source": [
    "### Item-Item Similarity matrix\n",
    "\n",
    "#### Using Cosine similarity"
   ]
  },
  {
   "cell_type": "code",
   "execution_count": 20,
   "metadata": {
    "colab": {
     "base_uri": "https://localhost:8080/"
    },
    "id": "gek0sh9otVvC",
    "outputId": "68bda326-b599-4310-b487-de0a89f29023"
   },
   "outputs": [
    {
     "name": "stdout",
     "output_type": "stream",
     "text": [
      "[[1.         0.29312319 0.2089444  ... 0.09364215 0.         0.06554951]\n",
      " [0.29312319 1.         0.19586877 ... 0.         0.         0.        ]\n",
      " [0.2089444  0.19586877 1.         ... 0.         0.         0.        ]\n",
      " ...\n",
      " [0.09364215 0.         0.         ... 1.         0.         0.        ]\n",
      " [0.         0.         0.         ... 0.         1.         0.        ]\n",
      " [0.06554951 0.         0.         ... 0.         0.         1.        ]]\n",
      "- - - - - - - - - - \n",
      "(8043, 8043)\n"
     ]
    },
    {
     "name": "stderr",
     "output_type": "stream",
     "text": [
      "/opt/homebrew/lib/python3.11/site-packages/sklearn/utils/extmath.py:192: RuntimeWarning: invalid value encountered in matmul\n",
      "  ret = a @ b\n"
     ]
    }
   ],
   "source": [
    "from sklearn.metrics.pairwise import cosine_similarity\n",
    "\n",
    "# Item Similarity Matrix using Cosine similarity as a similarity measure between Items\n",
    "item_similarity = cosine_similarity(movie_features)\n",
    "item_similarity[np.isnan(item_similarity)] = 0\n",
    "print(item_similarity)\n",
    "print(\"- \"*10)\n",
    "print(item_similarity.shape)"
   ]
  },
  {
   "cell_type": "markdown",
   "metadata": {
    "id": "uf4TC7s2tVvE"
   },
   "source": [
    "### Predicting the User ratings on the movies "
   ]
  },
  {
   "cell_type": "code",
   "execution_count": 21,
   "metadata": {
    "colab": {
     "base_uri": "https://localhost:8080/"
    },
    "id": "whqd-_iD31YJ",
    "outputId": "872b36ec-3593-4122-eace-1bb7d4123a22"
   },
   "outputs": [
    {
     "data": {
      "text/plain": [
       "array([[ 7.06685729,  5.5669184 ,  3.43240972, ...,  0.75762196,\n",
       "         0.26548932,  2.69538099],\n",
       "       [48.00838796, 54.11267831, 24.22708097, ...,  1.30102204,\n",
       "         0.23151015, 10.85351411],\n",
       "       [23.77265718, 17.94221111,  8.5326474 , ...,  1.86113847,\n",
       "         0.48008536,  6.20111701],\n",
       "       ...,\n",
       "       [11.10438842,  9.6850143 ,  6.10573827, ...,  0.27299815,\n",
       "         0.        ,  5.71027824],\n",
       "       [21.29294039, 15.32788347,  8.58332684, ...,  0.81837386,\n",
       "         0.30285268,  5.97997039],\n",
       "       [78.22073194, 49.54884076, 24.70523659, ...,  5.07466113,\n",
       "         0.8710096 , 18.85811619]])"
      ]
     },
     "execution_count": 21,
     "metadata": {},
     "output_type": "execute_result"
    }
   ],
   "source": [
    "item_predicted_ratings = np.dot(movie_features.T, item_similarity)\n",
    "item_predicted_ratings"
   ]
  },
  {
   "cell_type": "markdown",
   "metadata": {
    "id": "g4AV_l8o4FoT"
   },
   "source": [
    "(A.B)T = (B)T.(A)T"
   ]
  },
  {
   "cell_type": "code",
   "execution_count": 23,
   "metadata": {
    "colab": {
     "base_uri": "https://localhost:8080/"
    },
    "id": "_rU5XH1HtVvH",
    "outputId": "d284239d-4e03-4d55-98b6-9eb37844902a"
   },
   "outputs": [
    {
     "data": {
      "text/plain": [
       "(671, 8043)"
      ]
     },
     "execution_count": 23,
     "metadata": {},
     "output_type": "execute_result"
    }
   ],
   "source": [
    "item_predicted_ratings.shape"
   ]
  },
  {
   "cell_type": "code",
   "execution_count": 24,
   "metadata": {
    "colab": {
     "base_uri": "https://localhost:8080/"
    },
    "id": "CNY3VinJzO1S",
    "outputId": "a1378e73-fa35-4118-f305-7344d9522a86"
   },
   "outputs": [
    {
     "data": {
      "text/plain": [
       "(671, 8043)"
      ]
     },
     "execution_count": 24,
     "metadata": {},
     "output_type": "execute_result"
    }
   ],
   "source": [
    "dummy_train.shape"
   ]
  },
  {
   "cell_type": "markdown",
   "metadata": {
    "id": "KP51JBOOzVnW"
   },
   "source": [
    "#### Filtering the ratings only for the movies not already rated by the user for recommendation"
   ]
  },
  {
   "cell_type": "code",
   "execution_count": 25,
   "metadata": {
    "colab": {
     "base_uri": "https://localhost:8080/",
     "height": 284
    },
    "id": "ABZlPInetVvK",
    "outputId": "8aca9209-d004-4a77-cf6c-c8512dcc1184"
   },
   "outputs": [
    {
     "data": {
      "text/html": [
       "<div>\n",
       "<style scoped>\n",
       "    .dataframe tbody tr th:only-of-type {\n",
       "        vertical-align: middle;\n",
       "    }\n",
       "\n",
       "    .dataframe tbody tr th {\n",
       "        vertical-align: top;\n",
       "    }\n",
       "\n",
       "    .dataframe thead th {\n",
       "        text-align: right;\n",
       "    }\n",
       "</style>\n",
       "<table border=\"1\" class=\"dataframe\">\n",
       "  <thead>\n",
       "    <tr style=\"text-align: right;\">\n",
       "      <th>movieId</th>\n",
       "      <th>1</th>\n",
       "      <th>2</th>\n",
       "      <th>3</th>\n",
       "      <th>4</th>\n",
       "      <th>5</th>\n",
       "      <th>6</th>\n",
       "      <th>7</th>\n",
       "      <th>8</th>\n",
       "      <th>9</th>\n",
       "      <th>10</th>\n",
       "      <th>...</th>\n",
       "      <th>160656</th>\n",
       "      <th>160718</th>\n",
       "      <th>161084</th>\n",
       "      <th>161155</th>\n",
       "      <th>161594</th>\n",
       "      <th>161830</th>\n",
       "      <th>161918</th>\n",
       "      <th>161944</th>\n",
       "      <th>162542</th>\n",
       "      <th>163949</th>\n",
       "    </tr>\n",
       "    <tr>\n",
       "      <th>userId</th>\n",
       "      <th></th>\n",
       "      <th></th>\n",
       "      <th></th>\n",
       "      <th></th>\n",
       "      <th></th>\n",
       "      <th></th>\n",
       "      <th></th>\n",
       "      <th></th>\n",
       "      <th></th>\n",
       "      <th></th>\n",
       "      <th></th>\n",
       "      <th></th>\n",
       "      <th></th>\n",
       "      <th></th>\n",
       "      <th></th>\n",
       "      <th></th>\n",
       "      <th></th>\n",
       "      <th></th>\n",
       "      <th></th>\n",
       "      <th></th>\n",
       "      <th></th>\n",
       "    </tr>\n",
       "  </thead>\n",
       "  <tbody>\n",
       "    <tr>\n",
       "      <th>1</th>\n",
       "      <td>7.066857</td>\n",
       "      <td>5.566918</td>\n",
       "      <td>3.432410</td>\n",
       "      <td>2.310125</td>\n",
       "      <td>3.659288</td>\n",
       "      <td>4.613999</td>\n",
       "      <td>4.144598</td>\n",
       "      <td>0.991955</td>\n",
       "      <td>2.292581</td>\n",
       "      <td>5.446323</td>\n",
       "      <td>...</td>\n",
       "      <td>2.695381</td>\n",
       "      <td>2.695381</td>\n",
       "      <td>2.695381</td>\n",
       "      <td>1.885681</td>\n",
       "      <td>3.377039</td>\n",
       "      <td>2.392670</td>\n",
       "      <td>2.392670</td>\n",
       "      <td>0.757622</td>\n",
       "      <td>0.265489</td>\n",
       "      <td>2.695381</td>\n",
       "    </tr>\n",
       "    <tr>\n",
       "      <th>2</th>\n",
       "      <td>48.008388</td>\n",
       "      <td>54.112678</td>\n",
       "      <td>24.227081</td>\n",
       "      <td>19.095393</td>\n",
       "      <td>30.375522</td>\n",
       "      <td>36.477313</td>\n",
       "      <td>28.697831</td>\n",
       "      <td>9.221338</td>\n",
       "      <td>18.370782</td>\n",
       "      <td>0.000000</td>\n",
       "      <td>...</td>\n",
       "      <td>10.853514</td>\n",
       "      <td>10.853514</td>\n",
       "      <td>10.853514</td>\n",
       "      <td>8.476851</td>\n",
       "      <td>9.214130</td>\n",
       "      <td>10.775891</td>\n",
       "      <td>10.775891</td>\n",
       "      <td>1.301022</td>\n",
       "      <td>0.231510</td>\n",
       "      <td>10.853514</td>\n",
       "    </tr>\n",
       "    <tr>\n",
       "      <th>3</th>\n",
       "      <td>23.772657</td>\n",
       "      <td>17.942211</td>\n",
       "      <td>8.532647</td>\n",
       "      <td>5.180997</td>\n",
       "      <td>10.713019</td>\n",
       "      <td>15.274718</td>\n",
       "      <td>7.863384</td>\n",
       "      <td>3.274880</td>\n",
       "      <td>5.255132</td>\n",
       "      <td>17.867196</td>\n",
       "      <td>...</td>\n",
       "      <td>6.201117</td>\n",
       "      <td>6.201117</td>\n",
       "      <td>6.201117</td>\n",
       "      <td>5.596308</td>\n",
       "      <td>7.511046</td>\n",
       "      <td>4.715341</td>\n",
       "      <td>4.715341</td>\n",
       "      <td>1.861138</td>\n",
       "      <td>0.480085</td>\n",
       "      <td>6.201117</td>\n",
       "    </tr>\n",
       "    <tr>\n",
       "      <th>4</th>\n",
       "      <td>109.859407</td>\n",
       "      <td>98.244427</td>\n",
       "      <td>51.248676</td>\n",
       "      <td>31.622443</td>\n",
       "      <td>60.991106</td>\n",
       "      <td>70.423507</td>\n",
       "      <td>61.029445</td>\n",
       "      <td>22.989648</td>\n",
       "      <td>31.428696</td>\n",
       "      <td>85.186125</td>\n",
       "      <td>...</td>\n",
       "      <td>27.853303</td>\n",
       "      <td>27.853303</td>\n",
       "      <td>27.853303</td>\n",
       "      <td>31.481820</td>\n",
       "      <td>37.817179</td>\n",
       "      <td>40.400585</td>\n",
       "      <td>40.400585</td>\n",
       "      <td>11.268766</td>\n",
       "      <td>0.910888</td>\n",
       "      <td>27.853303</td>\n",
       "    </tr>\n",
       "    <tr>\n",
       "      <th>5</th>\n",
       "      <td>56.458438</td>\n",
       "      <td>45.395535</td>\n",
       "      <td>20.158634</td>\n",
       "      <td>12.192075</td>\n",
       "      <td>30.626761</td>\n",
       "      <td>34.194423</td>\n",
       "      <td>23.777144</td>\n",
       "      <td>9.296242</td>\n",
       "      <td>7.644094</td>\n",
       "      <td>43.798221</td>\n",
       "      <td>...</td>\n",
       "      <td>10.264494</td>\n",
       "      <td>10.264494</td>\n",
       "      <td>10.264494</td>\n",
       "      <td>16.415521</td>\n",
       "      <td>24.243311</td>\n",
       "      <td>15.381262</td>\n",
       "      <td>15.381262</td>\n",
       "      <td>3.622707</td>\n",
       "      <td>1.325247</td>\n",
       "      <td>10.264494</td>\n",
       "    </tr>\n",
       "  </tbody>\n",
       "</table>\n",
       "<p>5 rows × 8043 columns</p>\n",
       "</div>"
      ],
      "text/plain": [
       "movieId      1          2          3          4          5          6       \\\n",
       "userId                                                                       \n",
       "1          7.066857   5.566918   3.432410   2.310125   3.659288   4.613999   \n",
       "2         48.008388  54.112678  24.227081  19.095393  30.375522  36.477313   \n",
       "3         23.772657  17.942211   8.532647   5.180997  10.713019  15.274718   \n",
       "4        109.859407  98.244427  51.248676  31.622443  60.991106  70.423507   \n",
       "5         56.458438  45.395535  20.158634  12.192075  30.626761  34.194423   \n",
       "\n",
       "movieId     7          8          9          10      ...     160656  \\\n",
       "userId                                               ...              \n",
       "1         4.144598   0.991955   2.292581   5.446323  ...   2.695381   \n",
       "2        28.697831   9.221338  18.370782   0.000000  ...  10.853514   \n",
       "3         7.863384   3.274880   5.255132  17.867196  ...   6.201117   \n",
       "4        61.029445  22.989648  31.428696  85.186125  ...  27.853303   \n",
       "5        23.777144   9.296242   7.644094  43.798221  ...  10.264494   \n",
       "\n",
       "movieId     160718     161084     161155     161594     161830     161918  \\\n",
       "userId                                                                      \n",
       "1         2.695381   2.695381   1.885681   3.377039   2.392670   2.392670   \n",
       "2        10.853514  10.853514   8.476851   9.214130  10.775891  10.775891   \n",
       "3         6.201117   6.201117   5.596308   7.511046   4.715341   4.715341   \n",
       "4        27.853303  27.853303  31.481820  37.817179  40.400585  40.400585   \n",
       "5        10.264494  10.264494  16.415521  24.243311  15.381262  15.381262   \n",
       "\n",
       "movieId     161944    162542     163949  \n",
       "userId                                   \n",
       "1         0.757622  0.265489   2.695381  \n",
       "2         1.301022  0.231510  10.853514  \n",
       "3         1.861138  0.480085   6.201117  \n",
       "4        11.268766  0.910888  27.853303  \n",
       "5         3.622707  1.325247  10.264494  \n",
       "\n",
       "[5 rows x 8043 columns]"
      ]
     },
     "execution_count": 25,
     "metadata": {},
     "output_type": "execute_result"
    }
   ],
   "source": [
    "# np.multiply for cell-by-cell multiplication \n",
    "\n",
    "item_final_ratings = np.multiply(item_predicted_ratings, dummy_train)\n",
    "item_final_ratings.head()"
   ]
  },
  {
   "cell_type": "markdown",
   "metadata": {
    "id": "sNreJzu3tVvM"
   },
   "source": [
    "### Top 5 movie recommendations for the User 42"
   ]
  },
  {
   "cell_type": "code",
   "execution_count": 26,
   "metadata": {
    "colab": {
     "base_uri": "https://localhost:8080/"
    },
    "id": "fwUaRk0ptVvN",
    "outputId": "71039681-fff9-4cb7-934b-1d1612545d3f"
   },
   "outputs": [
    {
     "data": {
      "text/plain": [
       "movieId\n",
       "2797    55.224119\n",
       "2918    53.666682\n",
       "1097    53.169115\n",
       "1265    53.138220\n",
       "1198    51.691110\n",
       "Name: 43, dtype: float64"
      ]
     },
     "execution_count": 26,
     "metadata": {},
     "output_type": "execute_result"
    }
   ],
   "source": [
    "item_final_ratings.iloc[42].sort_values(ascending = False)[0:5]"
   ]
  },
  {
   "cell_type": "markdown",
   "metadata": {
    "id": "zNpd1MIly9HI"
   },
   "source": [
    "## Evaluation\n",
    "\n",
    "Evaluation will we same as you have seen above for the prediction. The only difference being, you will evaluate for the movie already rated by the User instead of predicting it for the movie not rated by the user."
   ]
  },
  {
   "cell_type": "markdown",
   "metadata": {
    "id": "YObzD9hO0CpB"
   },
   "source": [
    "### Using User-User similarity "
   ]
  },
  {
   "cell_type": "code",
   "execution_count": 27,
   "metadata": {
    "colab": {
     "base_uri": "https://localhost:8080/"
    },
    "id": "tGskxmki43p5",
    "outputId": "bac31c04-1de8-432e-90a8-f203c3c8ef8e"
   },
   "outputs": [
    {
     "name": "stdout",
     "output_type": "stream",
     "text": [
      "[[1.         0.         0.         ... 0.         0.         0.        ]\n",
      " [0.         1.         0.04570869 ... 0.         0.         0.12090099]\n",
      " [0.         0.04570869 1.         ... 0.04426641 0.17405647 0.06515305]\n",
      " ...\n",
      " [0.         0.         0.04426641 ... 1.         0.11881211 0.        ]\n",
      " [0.         0.         0.17405647 ... 0.11881211 1.         0.01210655]\n",
      " [0.         0.12090099 0.06515305 ... 0.         0.01210655 1.        ]]\n",
      "- - - - - - - - - - \n",
      "(671, 671)\n"
     ]
    },
    {
     "name": "stderr",
     "output_type": "stream",
     "text": [
      "/opt/homebrew/lib/python3.11/site-packages/sklearn/utils/extmath.py:192: RuntimeWarning: invalid value encountered in matmul\n",
      "  ret = a @ b\n"
     ]
    }
   ],
   "source": [
    "test_user_features = X_test.pivot(index = 'userId', columns = 'movieId', values = 'rating').fillna(0)\n",
    "test_user_similarity = cosine_similarity(test_user_features)\n",
    "test_user_similarity[np.isnan(test_user_similarity)] = 0\n",
    "\n",
    "print(test_user_similarity)\n",
    "print(\"- \"*10)\n",
    "print(test_user_similarity.shape)"
   ]
  },
  {
   "cell_type": "code",
   "execution_count": 28,
   "metadata": {
    "colab": {
     "base_uri": "https://localhost:8080/"
    },
    "id": "X7Mu_NC30v8-",
    "outputId": "55d115cb-dcf9-4f03-a6d2-0b3bb41751ac"
   },
   "outputs": [
    {
     "data": {
      "text/plain": [
       "array([[ 0.76594634,  0.13888928,  0.62565718, ...,  0.        ,\n",
       "         0.        ,  0.        ],\n",
       "       [ 6.84649266,  3.2192931 ,  1.5645547 , ...,  0.13569032,\n",
       "         0.1898524 ,  0.        ],\n",
       "       [15.29495615,  5.12111393,  3.19769825, ...,  0.16909683,\n",
       "         0.27663233,  0.17333754],\n",
       "       ...,\n",
       "       [10.94862297,  2.46876118,  1.62411658, ...,  0.08213049,\n",
       "         0.12410675,  0.24321615],\n",
       "       [28.38684253,  4.66589509,  3.54837608, ...,  0.12568429,\n",
       "         0.43523462,  0.        ],\n",
       "       [17.10067183,  5.06260893,  1.95713401, ...,  0.43936277,\n",
       "         0.46076123,  0.        ]])"
      ]
     },
     "execution_count": 28,
     "metadata": {},
     "output_type": "execute_result"
    }
   ],
   "source": [
    "user_predicted_ratings_test = np.dot(test_user_similarity, test_user_features)\n",
    "user_predicted_ratings_test"
   ]
  },
  {
   "cell_type": "markdown",
   "metadata": {
    "id": "dtMqJ85G1rTw"
   },
   "source": [
    "### Testing on the movies already rated by the user"
   ]
  },
  {
   "cell_type": "code",
   "execution_count": 29,
   "metadata": {
    "colab": {
     "base_uri": "https://localhost:8080/",
     "height": 284
    },
    "id": "_pnPxOn01i_3",
    "outputId": "01a05ebb-8ad2-4759-d75f-062ba9ffb4d2"
   },
   "outputs": [
    {
     "data": {
      "text/html": [
       "<div>\n",
       "<style scoped>\n",
       "    .dataframe tbody tr th:only-of-type {\n",
       "        vertical-align: middle;\n",
       "    }\n",
       "\n",
       "    .dataframe tbody tr th {\n",
       "        vertical-align: top;\n",
       "    }\n",
       "\n",
       "    .dataframe thead th {\n",
       "        text-align: right;\n",
       "    }\n",
       "</style>\n",
       "<table border=\"1\" class=\"dataframe\">\n",
       "  <thead>\n",
       "    <tr style=\"text-align: right;\">\n",
       "      <th>movieId</th>\n",
       "      <th>1</th>\n",
       "      <th>2</th>\n",
       "      <th>3</th>\n",
       "      <th>4</th>\n",
       "      <th>5</th>\n",
       "      <th>6</th>\n",
       "      <th>7</th>\n",
       "      <th>8</th>\n",
       "      <th>9</th>\n",
       "      <th>10</th>\n",
       "      <th>...</th>\n",
       "      <th>157296</th>\n",
       "      <th>157667</th>\n",
       "      <th>159462</th>\n",
       "      <th>160271</th>\n",
       "      <th>160440</th>\n",
       "      <th>160563</th>\n",
       "      <th>160567</th>\n",
       "      <th>160590</th>\n",
       "      <th>162376</th>\n",
       "      <th>162672</th>\n",
       "    </tr>\n",
       "    <tr>\n",
       "      <th>userId</th>\n",
       "      <th></th>\n",
       "      <th></th>\n",
       "      <th></th>\n",
       "      <th></th>\n",
       "      <th></th>\n",
       "      <th></th>\n",
       "      <th></th>\n",
       "      <th></th>\n",
       "      <th></th>\n",
       "      <th></th>\n",
       "      <th></th>\n",
       "      <th></th>\n",
       "      <th></th>\n",
       "      <th></th>\n",
       "      <th></th>\n",
       "      <th></th>\n",
       "      <th></th>\n",
       "      <th></th>\n",
       "      <th></th>\n",
       "      <th></th>\n",
       "      <th></th>\n",
       "    </tr>\n",
       "  </thead>\n",
       "  <tbody>\n",
       "    <tr>\n",
       "      <th>1</th>\n",
       "      <td>0.0</td>\n",
       "      <td>0.0</td>\n",
       "      <td>0.000000</td>\n",
       "      <td>0.0</td>\n",
       "      <td>0.0</td>\n",
       "      <td>0.0</td>\n",
       "      <td>0.0</td>\n",
       "      <td>0.0</td>\n",
       "      <td>0.0</td>\n",
       "      <td>0.000000</td>\n",
       "      <td>...</td>\n",
       "      <td>0.0</td>\n",
       "      <td>0.0</td>\n",
       "      <td>0.0</td>\n",
       "      <td>0.0</td>\n",
       "      <td>0.0</td>\n",
       "      <td>0.0</td>\n",
       "      <td>0.0</td>\n",
       "      <td>0.0</td>\n",
       "      <td>0.0</td>\n",
       "      <td>0.0</td>\n",
       "    </tr>\n",
       "    <tr>\n",
       "      <th>2</th>\n",
       "      <td>0.0</td>\n",
       "      <td>0.0</td>\n",
       "      <td>0.000000</td>\n",
       "      <td>0.0</td>\n",
       "      <td>0.0</td>\n",
       "      <td>0.0</td>\n",
       "      <td>0.0</td>\n",
       "      <td>0.0</td>\n",
       "      <td>0.0</td>\n",
       "      <td>0.000000</td>\n",
       "      <td>...</td>\n",
       "      <td>0.0</td>\n",
       "      <td>0.0</td>\n",
       "      <td>0.0</td>\n",
       "      <td>0.0</td>\n",
       "      <td>0.0</td>\n",
       "      <td>0.0</td>\n",
       "      <td>0.0</td>\n",
       "      <td>0.0</td>\n",
       "      <td>0.0</td>\n",
       "      <td>0.0</td>\n",
       "    </tr>\n",
       "    <tr>\n",
       "      <th>3</th>\n",
       "      <td>0.0</td>\n",
       "      <td>0.0</td>\n",
       "      <td>0.000000</td>\n",
       "      <td>0.0</td>\n",
       "      <td>0.0</td>\n",
       "      <td>0.0</td>\n",
       "      <td>0.0</td>\n",
       "      <td>0.0</td>\n",
       "      <td>0.0</td>\n",
       "      <td>0.000000</td>\n",
       "      <td>...</td>\n",
       "      <td>0.0</td>\n",
       "      <td>0.0</td>\n",
       "      <td>0.0</td>\n",
       "      <td>0.0</td>\n",
       "      <td>0.0</td>\n",
       "      <td>0.0</td>\n",
       "      <td>0.0</td>\n",
       "      <td>0.0</td>\n",
       "      <td>0.0</td>\n",
       "      <td>0.0</td>\n",
       "    </tr>\n",
       "    <tr>\n",
       "      <th>4</th>\n",
       "      <td>0.0</td>\n",
       "      <td>0.0</td>\n",
       "      <td>0.000000</td>\n",
       "      <td>0.0</td>\n",
       "      <td>0.0</td>\n",
       "      <td>0.0</td>\n",
       "      <td>0.0</td>\n",
       "      <td>0.0</td>\n",
       "      <td>0.0</td>\n",
       "      <td>13.653968</td>\n",
       "      <td>...</td>\n",
       "      <td>0.0</td>\n",
       "      <td>0.0</td>\n",
       "      <td>0.0</td>\n",
       "      <td>0.0</td>\n",
       "      <td>0.0</td>\n",
       "      <td>0.0</td>\n",
       "      <td>0.0</td>\n",
       "      <td>0.0</td>\n",
       "      <td>0.0</td>\n",
       "      <td>0.0</td>\n",
       "    </tr>\n",
       "    <tr>\n",
       "      <th>5</th>\n",
       "      <td>0.0</td>\n",
       "      <td>0.0</td>\n",
       "      <td>8.334717</td>\n",
       "      <td>0.0</td>\n",
       "      <td>0.0</td>\n",
       "      <td>0.0</td>\n",
       "      <td>0.0</td>\n",
       "      <td>0.0</td>\n",
       "      <td>0.0</td>\n",
       "      <td>0.000000</td>\n",
       "      <td>...</td>\n",
       "      <td>0.0</td>\n",
       "      <td>0.0</td>\n",
       "      <td>0.0</td>\n",
       "      <td>0.0</td>\n",
       "      <td>0.0</td>\n",
       "      <td>0.0</td>\n",
       "      <td>0.0</td>\n",
       "      <td>0.0</td>\n",
       "      <td>0.0</td>\n",
       "      <td>0.0</td>\n",
       "    </tr>\n",
       "  </tbody>\n",
       "</table>\n",
       "<p>5 rows × 5778 columns</p>\n",
       "</div>"
      ],
      "text/plain": [
       "movieId  1       2         3       4       5       6       7       8       \\\n",
       "userId                                                                      \n",
       "1           0.0     0.0  0.000000     0.0     0.0     0.0     0.0     0.0   \n",
       "2           0.0     0.0  0.000000     0.0     0.0     0.0     0.0     0.0   \n",
       "3           0.0     0.0  0.000000     0.0     0.0     0.0     0.0     0.0   \n",
       "4           0.0     0.0  0.000000     0.0     0.0     0.0     0.0     0.0   \n",
       "5           0.0     0.0  8.334717     0.0     0.0     0.0     0.0     0.0   \n",
       "\n",
       "movieId  9          10      ...  157296  157667  159462  160271  160440  \\\n",
       "userId                      ...                                           \n",
       "1           0.0   0.000000  ...     0.0     0.0     0.0     0.0     0.0   \n",
       "2           0.0   0.000000  ...     0.0     0.0     0.0     0.0     0.0   \n",
       "3           0.0   0.000000  ...     0.0     0.0     0.0     0.0     0.0   \n",
       "4           0.0  13.653968  ...     0.0     0.0     0.0     0.0     0.0   \n",
       "5           0.0   0.000000  ...     0.0     0.0     0.0     0.0     0.0   \n",
       "\n",
       "movieId  160563  160567  160590  162376  162672  \n",
       "userId                                           \n",
       "1           0.0     0.0     0.0     0.0     0.0  \n",
       "2           0.0     0.0     0.0     0.0     0.0  \n",
       "3           0.0     0.0     0.0     0.0     0.0  \n",
       "4           0.0     0.0     0.0     0.0     0.0  \n",
       "5           0.0     0.0     0.0     0.0     0.0  \n",
       "\n",
       "[5 rows x 5778 columns]"
      ]
     },
     "execution_count": 29,
     "metadata": {},
     "output_type": "execute_result"
    }
   ],
   "source": [
    "\n",
    "test_user_final_rating = np.multiply(user_predicted_ratings_test, dummy_test)\n",
    "test_user_final_rating.head()"
   ]
  },
  {
   "cell_type": "code",
   "execution_count": 30,
   "metadata": {
    "colab": {
     "base_uri": "https://localhost:8080/"
    },
    "id": "jzXN5xNr15Mo",
    "outputId": "a27561a2-e180-4c44-acf0-a8cba819e602"
   },
   "outputs": [
    {
     "data": {
      "text/plain": [
       "count    100004.000000\n",
       "mean          3.543608\n",
       "std           1.058064\n",
       "min           0.500000\n",
       "25%           3.000000\n",
       "50%           4.000000\n",
       "75%           4.000000\n",
       "max           5.000000\n",
       "Name: rating, dtype: float64"
      ]
     },
     "execution_count": 30,
     "metadata": {},
     "output_type": "execute_result"
    }
   ],
   "source": [
    "ratings['rating'].describe()"
   ]
  },
  {
   "cell_type": "markdown",
   "metadata": {
    "id": "s9fTYXtg19w0"
   },
   "source": [
    "But we need to normalize the final rating values between range (0.5, 5)"
   ]
  },
  {
   "cell_type": "code",
   "execution_count": 31,
   "metadata": {
    "colab": {
     "base_uri": "https://localhost:8080/"
    },
    "id": "Vo8ODjH82G_4",
    "outputId": "df07ea2d-c5c8-42af-ad03-d8db213cd97c"
   },
   "outputs": [
    {
     "name": "stdout",
     "output_type": "stream",
     "text": [
      "[[       nan        nan        nan ...        nan        nan        nan]\n",
      " [       nan        nan        nan ...        nan        nan        nan]\n",
      " [       nan        nan        nan ...        nan        nan        nan]\n",
      " ...\n",
      " [       nan        nan        nan ...        nan        nan        nan]\n",
      " [4.27542739        nan        nan ...        nan        nan        nan]\n",
      " [       nan        nan        nan ...        nan        nan        nan]]\n"
     ]
    }
   ],
   "source": [
    "from sklearn.preprocessing import MinMaxScaler\n",
    "\n",
    "X = test_user_final_rating.copy() \n",
    "X = X[X > 0] # only consider non-zero values as 0 means the user haven't rated the movies\n",
    "\n",
    "scaler = MinMaxScaler(feature_range = (0.5, 5))\n",
    "scaler.fit(X)\n",
    "pred = scaler.transform(X)\n",
    "\n",
    "print(pred)"
   ]
  },
  {
   "cell_type": "code",
   "execution_count": 32,
   "metadata": {
    "colab": {
     "base_uri": "https://localhost:8080/"
    },
    "id": "nqRt3NLNGQLz",
    "outputId": "6730d069-bffd-4916-b4b8-45ad3d5bedf5"
   },
   "outputs": [
    {
     "data": {
      "text/plain": [
       "30002"
      ]
     },
     "execution_count": 32,
     "metadata": {},
     "output_type": "execute_result"
    }
   ],
   "source": [
    "# total non-NaN value\n",
    "total_non_nan = np.count_nonzero(~np.isnan(pred))\n",
    "total_non_nan"
   ]
  },
  {
   "cell_type": "code",
   "execution_count": 33,
   "metadata": {
    "colab": {
     "base_uri": "https://localhost:8080/",
     "height": 284
    },
    "id": "4VhcZiXbEAYL",
    "outputId": "abd69f6f-fade-4f84-9907-a27ffca0c7fc"
   },
   "outputs": [
    {
     "data": {
      "text/html": [
       "<div>\n",
       "<style scoped>\n",
       "    .dataframe tbody tr th:only-of-type {\n",
       "        vertical-align: middle;\n",
       "    }\n",
       "\n",
       "    .dataframe tbody tr th {\n",
       "        vertical-align: top;\n",
       "    }\n",
       "\n",
       "    .dataframe thead th {\n",
       "        text-align: right;\n",
       "    }\n",
       "</style>\n",
       "<table border=\"1\" class=\"dataframe\">\n",
       "  <thead>\n",
       "    <tr style=\"text-align: right;\">\n",
       "      <th>movieId</th>\n",
       "      <th>1</th>\n",
       "      <th>2</th>\n",
       "      <th>3</th>\n",
       "      <th>4</th>\n",
       "      <th>5</th>\n",
       "      <th>6</th>\n",
       "      <th>7</th>\n",
       "      <th>8</th>\n",
       "      <th>9</th>\n",
       "      <th>10</th>\n",
       "      <th>...</th>\n",
       "      <th>157296</th>\n",
       "      <th>157667</th>\n",
       "      <th>159462</th>\n",
       "      <th>160271</th>\n",
       "      <th>160440</th>\n",
       "      <th>160563</th>\n",
       "      <th>160567</th>\n",
       "      <th>160590</th>\n",
       "      <th>162376</th>\n",
       "      <th>162672</th>\n",
       "    </tr>\n",
       "    <tr>\n",
       "      <th>userId</th>\n",
       "      <th></th>\n",
       "      <th></th>\n",
       "      <th></th>\n",
       "      <th></th>\n",
       "      <th></th>\n",
       "      <th></th>\n",
       "      <th></th>\n",
       "      <th></th>\n",
       "      <th></th>\n",
       "      <th></th>\n",
       "      <th></th>\n",
       "      <th></th>\n",
       "      <th></th>\n",
       "      <th></th>\n",
       "      <th></th>\n",
       "      <th></th>\n",
       "      <th></th>\n",
       "      <th></th>\n",
       "      <th></th>\n",
       "      <th></th>\n",
       "      <th></th>\n",
       "    </tr>\n",
       "  </thead>\n",
       "  <tbody>\n",
       "    <tr>\n",
       "      <th>1</th>\n",
       "      <td>NaN</td>\n",
       "      <td>NaN</td>\n",
       "      <td>NaN</td>\n",
       "      <td>NaN</td>\n",
       "      <td>NaN</td>\n",
       "      <td>NaN</td>\n",
       "      <td>NaN</td>\n",
       "      <td>NaN</td>\n",
       "      <td>NaN</td>\n",
       "      <td>NaN</td>\n",
       "      <td>...</td>\n",
       "      <td>NaN</td>\n",
       "      <td>NaN</td>\n",
       "      <td>NaN</td>\n",
       "      <td>NaN</td>\n",
       "      <td>NaN</td>\n",
       "      <td>NaN</td>\n",
       "      <td>NaN</td>\n",
       "      <td>NaN</td>\n",
       "      <td>NaN</td>\n",
       "      <td>NaN</td>\n",
       "    </tr>\n",
       "    <tr>\n",
       "      <th>2</th>\n",
       "      <td>NaN</td>\n",
       "      <td>NaN</td>\n",
       "      <td>NaN</td>\n",
       "      <td>NaN</td>\n",
       "      <td>NaN</td>\n",
       "      <td>NaN</td>\n",
       "      <td>NaN</td>\n",
       "      <td>NaN</td>\n",
       "      <td>NaN</td>\n",
       "      <td>NaN</td>\n",
       "      <td>...</td>\n",
       "      <td>NaN</td>\n",
       "      <td>NaN</td>\n",
       "      <td>NaN</td>\n",
       "      <td>NaN</td>\n",
       "      <td>NaN</td>\n",
       "      <td>NaN</td>\n",
       "      <td>NaN</td>\n",
       "      <td>NaN</td>\n",
       "      <td>NaN</td>\n",
       "      <td>NaN</td>\n",
       "    </tr>\n",
       "    <tr>\n",
       "      <th>3</th>\n",
       "      <td>NaN</td>\n",
       "      <td>NaN</td>\n",
       "      <td>NaN</td>\n",
       "      <td>NaN</td>\n",
       "      <td>NaN</td>\n",
       "      <td>NaN</td>\n",
       "      <td>NaN</td>\n",
       "      <td>NaN</td>\n",
       "      <td>NaN</td>\n",
       "      <td>NaN</td>\n",
       "      <td>...</td>\n",
       "      <td>NaN</td>\n",
       "      <td>NaN</td>\n",
       "      <td>NaN</td>\n",
       "      <td>NaN</td>\n",
       "      <td>NaN</td>\n",
       "      <td>NaN</td>\n",
       "      <td>NaN</td>\n",
       "      <td>NaN</td>\n",
       "      <td>NaN</td>\n",
       "      <td>NaN</td>\n",
       "    </tr>\n",
       "    <tr>\n",
       "      <th>4</th>\n",
       "      <td>NaN</td>\n",
       "      <td>NaN</td>\n",
       "      <td>NaN</td>\n",
       "      <td>NaN</td>\n",
       "      <td>NaN</td>\n",
       "      <td>NaN</td>\n",
       "      <td>NaN</td>\n",
       "      <td>NaN</td>\n",
       "      <td>NaN</td>\n",
       "      <td>4.0</td>\n",
       "      <td>...</td>\n",
       "      <td>NaN</td>\n",
       "      <td>NaN</td>\n",
       "      <td>NaN</td>\n",
       "      <td>NaN</td>\n",
       "      <td>NaN</td>\n",
       "      <td>NaN</td>\n",
       "      <td>NaN</td>\n",
       "      <td>NaN</td>\n",
       "      <td>NaN</td>\n",
       "      <td>NaN</td>\n",
       "    </tr>\n",
       "    <tr>\n",
       "      <th>5</th>\n",
       "      <td>NaN</td>\n",
       "      <td>NaN</td>\n",
       "      <td>4.0</td>\n",
       "      <td>NaN</td>\n",
       "      <td>NaN</td>\n",
       "      <td>NaN</td>\n",
       "      <td>NaN</td>\n",
       "      <td>NaN</td>\n",
       "      <td>NaN</td>\n",
       "      <td>NaN</td>\n",
       "      <td>...</td>\n",
       "      <td>NaN</td>\n",
       "      <td>NaN</td>\n",
       "      <td>NaN</td>\n",
       "      <td>NaN</td>\n",
       "      <td>NaN</td>\n",
       "      <td>NaN</td>\n",
       "      <td>NaN</td>\n",
       "      <td>NaN</td>\n",
       "      <td>NaN</td>\n",
       "      <td>NaN</td>\n",
       "    </tr>\n",
       "  </tbody>\n",
       "</table>\n",
       "<p>5 rows × 5778 columns</p>\n",
       "</div>"
      ],
      "text/plain": [
       "movieId  1       2       3       4       5       6       7       8       \\\n",
       "userId                                                                    \n",
       "1           NaN     NaN     NaN     NaN     NaN     NaN     NaN     NaN   \n",
       "2           NaN     NaN     NaN     NaN     NaN     NaN     NaN     NaN   \n",
       "3           NaN     NaN     NaN     NaN     NaN     NaN     NaN     NaN   \n",
       "4           NaN     NaN     NaN     NaN     NaN     NaN     NaN     NaN   \n",
       "5           NaN     NaN     4.0     NaN     NaN     NaN     NaN     NaN   \n",
       "\n",
       "movieId  9       10      ...  157296  157667  159462  160271  160440  160563  \\\n",
       "userId                   ...                                                   \n",
       "1           NaN     NaN  ...     NaN     NaN     NaN     NaN     NaN     NaN   \n",
       "2           NaN     NaN  ...     NaN     NaN     NaN     NaN     NaN     NaN   \n",
       "3           NaN     NaN  ...     NaN     NaN     NaN     NaN     NaN     NaN   \n",
       "4           NaN     4.0  ...     NaN     NaN     NaN     NaN     NaN     NaN   \n",
       "5           NaN     NaN  ...     NaN     NaN     NaN     NaN     NaN     NaN   \n",
       "\n",
       "movieId  160567  160590  162376  162672  \n",
       "userId                                   \n",
       "1           NaN     NaN     NaN     NaN  \n",
       "2           NaN     NaN     NaN     NaN  \n",
       "3           NaN     NaN     NaN     NaN  \n",
       "4           NaN     NaN     NaN     NaN  \n",
       "5           NaN     NaN     NaN     NaN  \n",
       "\n",
       "[5 rows x 5778 columns]"
      ]
     },
     "execution_count": 33,
     "metadata": {},
     "output_type": "execute_result"
    }
   ],
   "source": [
    "test = X_test.pivot(index = 'userId', columns = 'movieId', values = 'rating')\n",
    "test.head()"
   ]
  },
  {
   "cell_type": "code",
   "execution_count": 34,
   "metadata": {
    "colab": {
     "base_uri": "https://localhost:8080/"
    },
    "id": "W0b0tknrIy5c",
    "outputId": "ded85fc1-5961-4bab-dd44-91a389b947c5"
   },
   "outputs": [
    {
     "name": "stdout",
     "output_type": "stream",
     "text": [
      "1.557616867325473\n"
     ]
    }
   ],
   "source": [
    "# RMSE Score\n",
    "\n",
    "diff_sqr_matrix = (test - pred)**2\n",
    "sum_of_squares_err = diff_sqr_matrix.sum().sum() # df.sum().sum() by default ignores null values\n",
    "\n",
    "rmse = np.sqrt(sum_of_squares_err/total_non_nan)\n",
    "print(rmse)"
   ]
  },
  {
   "cell_type": "code",
   "execution_count": 35,
   "metadata": {
    "colab": {
     "base_uri": "https://localhost:8080/"
    },
    "id": "1XRWJJBWNQWf",
    "outputId": "3f82f403-95b5-4e72-d85a-9b82c0908434"
   },
   "outputs": [
    {
     "name": "stdout",
     "output_type": "stream",
     "text": [
      "1.194307239509127\n"
     ]
    }
   ],
   "source": [
    "# Mean abslute error\n",
    "\n",
    "mae = np.abs(pred - test).sum().sum()/total_non_nan\n",
    "print(mae)"
   ]
  },
  {
   "cell_type": "markdown",
   "metadata": {
    "id": "S192UTN-Nuac"
   },
   "source": [
    "It means that on an average our User-based recommendation engine is making an error of 1.2 in predicting the User ratings. \n",
    "\n",
    "Now, let's evaluate Item-based recommendation engine."
   ]
  }
 ],
 "metadata": {
  "colab": {
   "name": "collaborative_filtering_movielense.ipynb",
   "provenance": []
  },
  "kernelspec": {
   "display_name": "Python 3",
   "language": "python",
   "name": "python3"
  },
  "language_info": {
   "codemirror_mode": {
    "name": "ipython",
    "version": 3
   },
   "file_extension": ".py",
   "mimetype": "text/x-python",
   "name": "python",
   "nbconvert_exporter": "python",
   "pygments_lexer": "ipython3",
   "version": "3.11.5"
  }
 },
 "nbformat": 4,
 "nbformat_minor": 1
}
